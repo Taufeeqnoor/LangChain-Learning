{
  "cells": [
    {
      "cell_type": "markdown",
      "metadata": {
        "id": "ktLysPA_8ql1"
      },
      "source": [
        "# Building the simplest Graph\n",
        "\n",
        "We start with a graph with two nodes connected by one edge.\n"
      ]
    },
    {
      "cell_type": "code",
      "execution_count": null,
      "metadata": {
        "id": "VypRM0wh8ql3",
        "outputId": "f9b0124a-e156-468e-dcf4-959fb28e9980",
        "colab": {
          "base_uri": "https://localhost:8080/"
        }
      },
      "outputs": [
        {
          "output_type": "stream",
          "name": "stdout",
          "text": [
            "\u001b[2K   \u001b[90m━━━━━━━━━━━━━━━━━━━━━━━━━━━━━━━━━━━━━━━━\u001b[0m \u001b[32m151.5/151.5 kB\u001b[0m \u001b[31m5.1 MB/s\u001b[0m eta \u001b[36m0:00:00\u001b[0m\n",
            "\u001b[2K   \u001b[90m━━━━━━━━━━━━━━━━━━━━━━━━━━━━━━━━━━━━━━━━\u001b[0m \u001b[32m44.7/44.7 kB\u001b[0m \u001b[31m1.8 MB/s\u001b[0m eta \u001b[36m0:00:00\u001b[0m\n",
            "\u001b[?25h"
          ]
        }
      ],
      "source": [
        "!pip install  -qU langgraph"
      ]
    },
    {
      "cell_type": "markdown",
      "metadata": {
        "id": "q0LsYw1F8ql5"
      },
      "source": [
        "Nodes act like functions that can be called as needed. In our case Node 1 is our starting point and Node 2 is our finish point."
      ]
    },
    {
      "cell_type": "markdown",
      "source": [
        "# **Nodes**\n",
        "Nodes are just python functions.\n"
      ],
      "metadata": {
        "id": "EqvMj62dwA6v"
      }
    },
    {
      "cell_type": "code",
      "execution_count": null,
      "metadata": {
        "id": "g3I6ovHC8ql5"
      },
      "outputs": [],
      "source": [
        "def function_1(input_1):\n",
        "    return input_1 + \" I am \"\n",
        "\n",
        "def function_2(input_2):\n",
        "    return input_2 + \"happy\""
      ]
    },
    {
      "cell_type": "markdown",
      "source": [
        "# **Edges**\n",
        "Edges connect the nodes.\n",
        "\n",
        "Normal Edges are used if you want to always go from, for example, node_1 to node_2."
      ],
      "metadata": {
        "id": "nEk2pwAyvvqd"
      }
    },
    {
      "cell_type": "code",
      "execution_count": null,
      "metadata": {
        "id": "jIs2ZzLq8ql6"
      },
      "outputs": [],
      "source": [
        "from langgraph.graph import Graph, START, END\n",
        "\n",
        "# Define a graph\n",
        "workflow = Graph()\n",
        "\n",
        "# define nodes\n",
        "workflow.add_node(\"node_1\", function_1)\n",
        "workflow.add_node(\"node_2\", function_2)\n",
        "\n",
        "# define edges\n",
        "workflow.add_edge(START, 'node_1')\n",
        "workflow.add_edge('node_1', 'node_2')\n",
        "workflow.add_edge('node_2', END)\n",
        "\n",
        "graph = workflow.compile()"
      ]
    },
    {
      "cell_type": "code",
      "source": [
        "print(graph)\n",
        "print(type(graph))"
      ],
      "metadata": {
        "colab": {
          "base_uri": "https://localhost:8080/"
        },
        "id": "HWOgXPFO9rKk",
        "outputId": "4e6d42ff-db21-481f-a894-06d51d7445c6"
      },
      "execution_count": null,
      "outputs": [
        {
          "output_type": "stream",
          "name": "stdout",
          "text": [
            "<langgraph.graph.graph.CompiledGraph object at 0x7b39bdc3ec10>\n",
            "<class 'langgraph.graph.graph.CompiledGraph'>\n"
          ]
        }
      ]
    },
    {
      "cell_type": "code",
      "source": [
        "print(graph.get_graph())"
      ],
      "metadata": {
        "colab": {
          "base_uri": "https://localhost:8080/"
        },
        "id": "axGzMlCQ91DL",
        "outputId": "9704e2fe-29b7-4b35-9872-5dcba6246842"
      },
      "execution_count": null,
      "outputs": [
        {
          "output_type": "stream",
          "name": "stdout",
          "text": [
            "Graph(nodes={'__start__': Node(id='__start__', name='__start__', data=<class 'langgraph.graph.graph.LangGraphInput'>, metadata=None), 'node_1': Node(id='node_1', name='node_1', data=node_1(tags=None, recurse=True, explode_args=False, func_accepts_config=False, func_accepts={}), metadata=None), 'node_2': Node(id='node_2', name='node_2', data=node_2(tags=None, recurse=True, explode_args=False, func_accepts_config=False, func_accepts={}), metadata=None), '__end__': Node(id='__end__', name='__end__', data=<class 'langgraph.graph.graph.LangGraphOutput'>, metadata=None)}, edges=[Edge(source='__start__', target='node_1', data=None, conditional=False), Edge(source='node_1', target='node_2', data=None, conditional=False), Edge(source='node_2', target='__end__', data=None, conditional=False)])\n"
          ]
        }
      ]
    },
    {
      "cell_type": "code",
      "source": [
        "from IPython.display import Image\n",
        "\n",
        "# View\n",
        "display(Image(graph.get_graph().draw_mermaid_png()))"
      ],
      "metadata": {
        "colab": {
          "base_uri": "https://localhost:8080/",
          "height": 350
        },
        "id": "JpkrxJ5H-Fg5",
        "outputId": "99150359-8925-411e-a064-591102b428a3"
      },
      "execution_count": null,
      "outputs": [
        {
          "output_type": "display_data",
          "data": {
            "image/png": "[encoded data removed]",
            "text/plain": [
              "<IPython.core.display.Image object>"
            ]
          },
          "metadata": {}
        }
      ]
    },
    {
      "cell_type": "markdown",
      "source": [
        "## Executing a LangGraph: The Runnable Protocol\n",
        "\n",
        "When a LangGraph is compiled, it **implements the Runnable Protocol**.  \n",
        "This means it follows a **standardized way** of execution in LangChain.\n",
        "\n",
        "### 🔹 What is the Runnable Protocol?\n",
        "It defines methods to run LangChain components, including:\n",
        "- `.invoke(input)`: Runs the component with an input and returns the result.\n",
        "- `.stream(input)`: Streams the output in real-time.\n",
        "\n",
        "### 🔹 Why is this important?\n",
        "Since the compiled graph follows this protocol, we can execute it just like other LangChain components.\n",
        "\n",
        "### 🔹 Example Usage\n",
        "```python\n",
        "output = graph.invoke(input)\n",
        "print(output)\n"
      ],
      "metadata": {
        "id": "EP3-EmV7B50O"
      }
    },
    {
      "cell_type": "code",
      "execution_count": null,
      "metadata": {
        "id": "nXLvJuFV8ql6",
        "outputId": "f6f1035a-1857-4518-ec2a-2284f015d70d",
        "colab": {
          "base_uri": "https://localhost:8080/",
          "height": 35
        }
      },
      "outputs": [
        {
          "output_type": "execute_result",
          "data": {
            "text/plain": [
              "'Hello I am happy'"
            ],
            "application/vnd.google.colaboratory.intrinsic+json": {
              "type": "string"
            }
          },
          "metadata": {},
          "execution_count": 41
        }
      ],
      "source": [
        "graph.invoke(\"Hello\")"
      ]
    },
    {
      "cell_type": "markdown",
      "source": [
        "**invoke** runs the entire graph synchronously.\n",
        "\n",
        "This waits for each step to complete before moving to the next.\n",
        "\n",
        "It returns the final state of the graph after all nodes have executed"
      ],
      "metadata": {
        "id": "3UU5J4dgC2QF"
      }
    },
    {
      "cell_type": "code",
      "execution_count": null,
      "metadata": {
        "id": "I02yJ3u18ql7",
        "outputId": "b66dc006-155c-4652-8635-b0c236f8608d",
        "colab": {
          "base_uri": "https://localhost:8080/"
        }
      },
      "outputs": [
        {
          "output_type": "stream",
          "name": "stdout",
          "text": [
            "Output from node 'node_1':\n",
            "---\n",
            "Hello I am \n",
            "\n",
            "---\n",
            "\n",
            "Output from node 'node_2':\n",
            "---\n",
            "Hello I am happy\n",
            "\n",
            "---\n",
            "\n"
          ]
        }
      ],
      "source": [
        "input = 'Hello'\n",
        "for output in graph.stream(input):\n",
        "    # print(output)\n",
        "\n",
        "    for key,value in output.items():\n",
        "      # print(item)\n",
        "        print(f\"Output from node '{key}':\")\n",
        "        print(\"---\")\n",
        "        print(value)\n",
        "\n",
        "    print(\"\\n---\\n\")"
      ]
    },
    {
      "cell_type": "markdown",
      "metadata": {
        "id": "kG__FIOo8ql7"
      },
      "source": [
        "### As you can see, we can run the nodes as functions and return some values from them.\n",
        "\n"
      ]
    },
    {
      "cell_type": "markdown",
      "metadata": {
        "id": "h96gjzRi8ql7"
      },
      "source": [
        "# Adding LLM Call\n",
        "\n",
        "Now, let's make the first node as an \"Agent\" that can call Open AI models. We can use langchain to make this call easy for us."
      ]
    },
    {
      "cell_type": "code",
      "execution_count": null,
      "metadata": {
        "id": "1VUZvmOs8ql7",
        "outputId": "7d1c39c6-228b-49f5-8113-c2dd36385e4c",
        "colab": {
          "base_uri": "https://localhost:8080/"
        }
      },
      "outputs": [
        {
          "output_type": "stream",
          "name": "stdout",
          "text": [
            "\u001b[?25l   \u001b[90m━━━━━━━━━━━━━━━━━━━━━━━━━━━━━━━━━━━━━━━━\u001b[0m \u001b[32m0.0/1.0 MB\u001b[0m \u001b[31m?\u001b[0m eta \u001b[36m-:--:--\u001b[0m\r\u001b[2K   \u001b[91m━━━━━━━━━━━━━━━━━━━━━━━━━━━━━━━━━━━━━━━\u001b[0m\u001b[91m╸\u001b[0m \u001b[32m1.0/1.0 MB\u001b[0m \u001b[31m30.7 MB/s\u001b[0m eta \u001b[36m0:00:01\u001b[0m\r\u001b[2K   \u001b[90m━━━━━━━━━━━━━━━━━━━━━━━━━━━━━━━━━━━━━━━━\u001b[0m \u001b[32m1.0/1.0 MB\u001b[0m \u001b[31m19.1 MB/s\u001b[0m eta \u001b[36m0:00:00\u001b[0m\n",
            "\u001b[?25h\u001b[?25l   \u001b[90m━━━━━━━━━━━━━━━━━━━━━━━━━━━━━━━━━━━━━━━━\u001b[0m \u001b[32m0.0/41.7 kB\u001b[0m \u001b[31m?\u001b[0m eta \u001b[36m-:--:--\u001b[0m\r\u001b[2K   \u001b[90m━━━━━━━━━━━━━━━━━━━━━━━━━━━━━━━━━━━━━━━━\u001b[0m \u001b[32m41.7/41.7 kB\u001b[0m \u001b[31m2.0 MB/s\u001b[0m eta \u001b[36m0:00:00\u001b[0m\n",
            "\u001b[?25h"
          ]
        }
      ],
      "source": [
        "!pip install -qU langchain langchain-google-genai"
      ]
    },
    {
      "cell_type": "code",
      "execution_count": null,
      "metadata": {
        "id": "Srh77XVn8ql8"
      },
      "outputs": [],
      "source": [
        "# access environment variables\n",
        "\n",
        "from google.colab import userdata\n",
        "gemini_api_key = userdata.get('GEMINI_API_KEY')"
      ]
    },
    {
      "cell_type": "code",
      "execution_count": null,
      "metadata": {
        "id": "AUtuSLRD8ql8"
      },
      "outputs": [],
      "source": [
        "from langchain_google_genai import ChatGoogleGenerativeAI\n",
        "\n",
        "# Initialize an instance of the ChatGoogleGenerativeAI with specific parameters\n",
        "model: ChatGoogleGenerativeAI = ChatGoogleGenerativeAI(\n",
        "    # model=\"gemini-1.5-flash\",  # Specify the model to use\n",
        "    model=\"gemini-2.0-flash-exp\",\n",
        "    api_key=gemini_api_key    # Provide the Google API key for authentication\n",
        ")"
      ]
    },
    {
      "cell_type": "code",
      "execution_count": null,
      "metadata": {
        "id": "Iv7QykoU8ql8",
        "outputId": "758ff8c0-2f0e-4a2c-a391-ccbf2eed4b21",
        "colab": {
          "base_uri": "https://localhost:8080/"
        }
      },
      "outputs": [
        {
          "output_type": "execute_result",
          "data": {
            "text/plain": [
              "AIMessage(content='Hey! How can I help you today?', additional_kwargs={}, response_metadata={'prompt_feedback': {'block_reason': 0, 'safety_ratings': []}, 'finish_reason': 'STOP', 'safety_ratings': []}, id='run-74e384d8-125c-454e-9e0e-af005c02f70c-0', usage_metadata={'input_tokens': 2, 'output_tokens': 10, 'total_tokens': 12, 'input_token_details': {'cache_read': 0}})"
            ]
          },
          "metadata": {},
          "execution_count": 46
        }
      ],
      "source": [
        "#Call the model with a user message\n",
        "response = model.invoke('Hey there')\n",
        "response"
      ]
    },
    {
      "cell_type": "code",
      "source": [
        "response = model.invoke('Hey there')\n",
        "response.content"
      ],
      "metadata": {
        "colab": {
          "base_uri": "https://localhost:8080/",
          "height": 35
        },
        "id": "YIJk_UOPGq1n",
        "outputId": "c1cb66be-3d9c-463b-ed9f-01deb002cf57"
      },
      "execution_count": null,
      "outputs": [
        {
          "output_type": "execute_result",
          "data": {
            "text/plain": [
              "'Hey! How can I help you today?'"
            ],
            "application/vnd.google.colaboratory.intrinsic+json": {
              "type": "string"
            }
          },
          "metadata": {},
          "execution_count": 47
        }
      ]
    },
    {
      "cell_type": "markdown",
      "metadata": {
        "id": "g5dZrQih8ql9"
      },
      "source": [
        "Cool! Keeping that in mind, let's change the function 1 above so that we can send the user question to the model. Then we will send this response to function 2, which will add a short string and return to the user."
      ]
    },
    {
      "cell_type": "code",
      "execution_count": null,
      "metadata": {
        "id": "7urgwH3L8ql9"
      },
      "outputs": [],
      "source": [
        "def function_1(input_1):\n",
        "    response = model.invoke(input_1)\n",
        "    return response.content\n",
        "\n",
        "def function_2(input_2):\n",
        "    return \"Agent Says: \" + input_2"
      ]
    },
    {
      "cell_type": "code",
      "execution_count": null,
      "metadata": {
        "id": "z1eqPVym8ql9"
      },
      "outputs": [],
      "source": [
        "from langgraph.graph import Graph, START, END\n",
        "\n",
        "# Define a graph\n",
        "workflow = Graph()\n",
        "\n",
        "# define nodes\n",
        "workflow.add_node(\"node_1\", function_1)\n",
        "workflow.add_node(\"node_2\", function_2)\n",
        "\n",
        "# define edges\n",
        "workflow.add_edge(START, 'node_1')\n",
        "workflow.add_edge('node_1', 'node_2')\n",
        "workflow.add_edge('node_2', END)\n",
        "\n",
        "graph = workflow.compile()"
      ]
    },
    {
      "cell_type": "code",
      "source": [
        "from IPython.display import Image\n",
        "\n",
        "# View\n",
        "display(Image(graph.get_graph().draw_mermaid_png()))"
      ],
      "metadata": {
        "id": "SusYj_sT1e0T",
        "colab": {
          "base_uri": "https://localhost:8080/",
          "height": 350
        },
        "outputId": "202ccb53-e555-49ca-86c2-28172996d32d"
      },
      "execution_count": null,
      "outputs": [
        {
          "output_type": "display_data",
          "data": {
            "image/png": "[encoded data removed]",
            "text/plain": [
              "<IPython.core.display.Image object>"
            ]
          },
          "metadata": {}
        }
      ]
    },
    {
      "cell_type": "code",
      "execution_count": null,
      "metadata": {
        "id": "F53jEPAr8ql9",
        "outputId": "00c6ca8d-5868-4bea-f43b-688506374dfb",
        "colab": {
          "base_uri": "https://localhost:8080/",
          "height": 35
        }
      },
      "outputs": [
        {
          "output_type": "execute_result",
          "data": {
            "text/plain": [
              "'Agent Says: Hey! How can I help you today?'"
            ],
            "application/vnd.google.colaboratory.intrinsic+json": {
              "type": "string"
            }
          },
          "metadata": {},
          "execution_count": 51
        }
      ],
      "source": [
        "graph.invoke(\"Hey there\")"
      ]
    },
    {
      "cell_type": "code",
      "source": [
        "# just a helpter function\n",
        "import textwrap\n",
        "from IPython.display import display, Markdown\n",
        "\n",
        "def to_markdown(text)-> Markdown:\n",
        "    text : str = text.replace(\"•\", \"  *\")\n",
        "    return Markdown(textwrap.indent(text, \"> \", predicate=lambda _: True))"
      ],
      "metadata": {
        "id": "DIhrkUUgMCx-"
      },
      "execution_count": null,
      "outputs": []
    },
    {
      "cell_type": "code",
      "source": [
        "response  = graph.invoke(\"Motivate me to learn agentic ai\")\n",
        "\n",
        "# print(response)\n",
        "to_markdown(response)"
      ],
      "metadata": {
        "colab": {
          "base_uri": "https://localhost:8080/",
          "height": 1000
        },
        "id": "hKmFL98fMFmf",
        "outputId": "d52492a2-ab38-4f75-c416-233dea8f01f2"
      },
      "execution_count": null,
      "outputs": [
        {
          "output_type": "execute_result",
          "data": {
            "text/plain": [
              "<IPython.core.display.Markdown object>"
            ],
            "text/markdown": "> Agent Says: Okay, let's get you fired up about learning Agentic AI! Here's a multi-pronged approach to motivate you, hitting on different aspects of the field and why it's worth your time:\n> \n> **1. The \"Future is Now\" Argument:**\n> \n> *   **Be at the Forefront:** Agentic AI is *the* next frontier in AI. It's moving beyond passive models that simply respond to prompts. This is about creating systems that can plan, act, learn, and adapt autonomously. You'll be learning a skill that's in high demand and will only become more crucial in the coming years.\n> *   **Shape the Future:**  By learning Agentic AI, you're not just passively observing the future unfold, you're actively shaping it. You'll be equipped to build the tools and systems that will define how AI interacts with the world.\n> *   **Early Adopter Advantage:**  The field is still relatively new. This means there's a huge opportunity to become a recognized expert, contribute to groundbreaking research, and build a strong career foundation.  Imagine being one of the first to truly understand and master this transformative technology!\n> \n> **2. The \"Problem Solver\" Perspective:**\n> \n> *   **Tackle Complex Challenges:**  Agentic AI is designed to solve problems that are too complex for traditional AI or human intervention alone. Think about optimizing supply chains, managing complex projects, conducting scientific research, or even creating personalized education experiences. You'll be working on real-world problems that have a significant impact.\n> *   **Unlock New Possibilities:**  Agentic AI can automate tasks, free up human creativity, and accelerate progress in various fields. You'll be empowering others to achieve more and discover new possibilities.\n> *   **Constantly Evolving:**  The field is dynamic and constantly evolving, which means you'll always be learning and pushing the boundaries of what's possible.  This intellectual stimulation can be incredibly rewarding.\n> \n> **3. The \"Career & Skillset\" Angle:**\n> \n> *   **High Demand, High Pay:**  The demand for skilled Agentic AI engineers, researchers, and developers is skyrocketing. This translates to excellent career prospects and competitive salaries.\n> *   **Versatile Skillset:**  Learning Agentic AI involves a broad range of skills, including:\n>     *   **AI/ML Fundamentals:**  Reinforcement learning, deep learning, natural language processing.\n>     *   **Software Engineering:**  Python, frameworks like Langchain, AutoGPT, etc.\n>     *   **System Design:**  Designing and building complex, autonomous systems.\n>     *   **Problem-Solving:**  Critical thinking, analytical skills, and the ability to break down complex problems.\n> *   **Career Paths:**  You could pursue roles like:\n>     *   Agentic AI Engineer\n>     *   AI Researcher\n>     *   Robotics Engineer\n>     *   Autonomous Systems Developer\n>     *   AI Product Manager\n> \n> **4. The \"Let's Get Practical\" Approach:**\n> \n> *   **Start Small, Build Momentum:**  Don't feel overwhelmed. Start with the basics. Focus on learning Python, then dive into the fundamentals of reinforcement learning and NLP.\n> *   **Hands-On Projects:**  The best way to learn is by doing. Build small projects that allow you to experiment with different Agentic AI concepts.  Examples:\n>     *   A simple task completion agent using Langchain.\n>     *   An agent that can navigate a virtual environment.\n>     *   An agent that can summarize and extract information from documents.\n> *   **Online Resources:**  There are tons of great resources available online:\n>     *   **Courses:** Coursera, edX, Udacity, fast.ai\n>     *   **Tutorials:** YouTube, Medium, Towards Data Science\n>     *   **Communities:**  Discord servers, Reddit forums, GitHub repositories\n> \n> **5. The \"Inspiration & Awe\" Factor:**\n> \n> *   **Witness the Magic:**  Seeing an agent successfully complete a complex task autonomously is truly inspiring. It's like witnessing the birth of a new form of intelligence.\n> *   **Imagine the Possibilities:**  Think about the potential impact of Agentic AI on healthcare, education, environmental sustainability, and countless other fields.  You could be a part of creating a better future for everyone.\n> \n> **Actionable Steps to Get Started Right Now:**\n> \n> 1.  **Choose a Learning Path:** Pick a course or tutorial series that aligns with your current skill level and interests.\n> 2.  **Set a Realistic Goal:** Commit to spending a specific amount of time each week learning about Agentic AI. Even 30 minutes a day can make a difference.\n> 3.  **Find a Community:** Join an online forum or Discord server to connect with other learners and experts.\n> 4.  **Start a Project:**  Pick a simple project that you can complete in a few weeks. This will give you a tangible goal to work towards and help you solidify your understanding.\n> 5.  **Celebrate Your Progress:** Acknowledge your achievements and reward yourself for reaching milestones.\n> \n> **In short, learning Agentic AI is an investment in your future. It's a challenging but incredibly rewarding field that offers the opportunity to solve complex problems, shape the future of technology, and build a fulfilling career.  So, what are you waiting for?  Dive in and start exploring!**\n> \n> Good luck, and let me know if you have any more questions! Let's build the future!"
          },
          "metadata": {},
          "execution_count": 53
        }
      ]
    },
    {
      "cell_type": "code",
      "execution_count": null,
      "metadata": {
        "id": "P1P5e0Mb8ql-",
        "outputId": "51888ad8-b255-4963-81de-13a1b6bd6bbb",
        "colab": {
          "base_uri": "https://localhost:8080/"
        }
      },
      "outputs": [
        {
          "output_type": "stream",
          "name": "stdout",
          "text": [
            "Output from node 'node_1':\n",
            "---\n",
            "Hey! How can I help you today?\n",
            "\n",
            "---\n",
            "\n",
            "Output from node 'node_2':\n",
            "---\n",
            "Agent Says: Hey! How can I help you today?\n",
            "\n",
            "---\n",
            "\n"
          ]
        }
      ],
      "source": [
        "input = 'Hey there'\n",
        "for output in graph.stream(input):\n",
        "    for key, value in output.items():\n",
        "        print(f\"Output from node '{key}':\")\n",
        "        print(\"---\")\n",
        "        print(value)\n",
        "    print(\"\\n---\\n\")"
      ]
    },
    {
      "cell_type": "markdown",
      "metadata": {
        "id": "bPM0sRit8ql-"
      },
      "source": [
        "# First functional Agent App - City Temperature\n",
        "\n",
        "### Step 1: Parse the city mentioned\n",
        "Let's extract the city that a user mentions in a query"
      ]
    },
    {
      "cell_type": "code",
      "execution_count": null,
      "metadata": {
        "id": "Ed2GvzXz8ql-"
      },
      "outputs": [],
      "source": [
        "def function_1(input_1):\n",
        "    complete_query = \"Your task is to provide only the city name based on the user query. \\\n",
        "        Nothing more, just the city name mentioned. Following is the user query: \" + input_1\n",
        "    response = model.invoke(complete_query)\n",
        "    return response.content\n",
        "\n",
        "def function_2(input_2):\n",
        "    return \"Agent Says: \" + input_2"
      ]
    },
    {
      "cell_type": "code",
      "execution_count": null,
      "metadata": {
        "id": "pAkoHhCg8ql-"
      },
      "outputs": [],
      "source": [
        "from langgraph.graph import Graph, START, END\n",
        "\n",
        "# Define a graph\n",
        "workflow = Graph()\n",
        "\n",
        "# define nodes\n",
        "workflow.add_node(\"node_1\", function_1)\n",
        "workflow.add_node(\"node_2\", function_2)\n",
        "\n",
        "# define edges\n",
        "workflow.add_edge(START, 'node_1')\n",
        "workflow.add_edge('node_1', 'node_2')\n",
        "workflow.add_edge('node_2', END)\n",
        "\n",
        "graph = workflow.compile()"
      ]
    },
    {
      "cell_type": "code",
      "source": [
        "from IPython.display import Image\n",
        "\n",
        "# View\n",
        "display(Image(graph.get_graph().draw_mermaid_png()))"
      ],
      "metadata": {
        "id": "pqVBGxGB1iIf",
        "colab": {
          "base_uri": "https://localhost:8080/",
          "height": 350
        },
        "outputId": "cc55a663-fedf-4e53-a15f-71609d9b8108"
      },
      "execution_count": null,
      "outputs": [
        {
          "output_type": "display_data",
          "data": {
            "image/png": "[encoded data removed]",
            "text/plain": [
              "<IPython.core.display.Image object>"
            ]
          },
          "metadata": {}
        }
      ]
    },
    {
      "cell_type": "code",
      "execution_count": null,
      "metadata": {
        "id": "LYJRVOLL8ql_",
        "outputId": "7af96ec2-d1d0-4b42-a785-71459b00667b",
        "colab": {
          "base_uri": "https://localhost:8080/",
          "height": 35
        }
      },
      "outputs": [
        {
          "output_type": "execute_result",
          "data": {
            "text/plain": [
              "'Agent Says: Peshawar'"
            ],
            "application/vnd.google.colaboratory.intrinsic+json": {
              "type": "string"
            }
          },
          "metadata": {},
          "execution_count": 58
        }
      ],
      "source": [
        "graph.invoke(\"What's the temperature in Peshawar\")"
      ]
    },
    {
      "cell_type": "markdown",
      "metadata": {
        "id": "H8KdxITd8ql_"
      },
      "source": [
        "### Step 2: Adding a weather API call\n",
        "\n",
        "What if we want the function 2 to take the city name and give us the weather for that city.\n",
        "\n",
        "Well we know that Open Weather Map is [integrated](https://python.langchain.com/docs/integrations/tools/openweathermap) into LangChain\n",
        "\n",
        "We need to install pyown, create an API key on the website of Open Weather Map (which takes a few hours to activate) and then run the cells below to get weather of a given city."
      ]
    },
    {
      "cell_type": "code",
      "execution_count": null,
      "metadata": {
        "id": "3vGkGEDO8ql_",
        "outputId": "b57fb0da-b91c-4877-882f-40e69ef20226",
        "colab": {
          "base_uri": "https://localhost:8080/"
        }
      },
      "outputs": [
        {
          "output_type": "stream",
          "name": "stdout",
          "text": [
            "\u001b[2K   \u001b[90m━━━━━━━━━━━━━━━━━━━━━━━━━━━━━━━━━━━━━━━━\u001b[0m \u001b[32m4.5/4.5 MB\u001b[0m \u001b[31m22.6 MB/s\u001b[0m eta \u001b[36m0:00:00\u001b[0m\n",
            "\u001b[2K   \u001b[90m━━━━━━━━━━━━━━━━━━━━━━━━━━━━━━━━━━━━━━━━\u001b[0m \u001b[32m2.5/2.5 MB\u001b[0m \u001b[31m33.1 MB/s\u001b[0m eta \u001b[36m0:00:00\u001b[0m\n",
            "\u001b[2K   \u001b[90m━━━━━━━━━━━━━━━━━━━━━━━━━━━━━━━━━━━━━━━━\u001b[0m \u001b[32m50.9/50.9 kB\u001b[0m \u001b[31m2.4 MB/s\u001b[0m eta \u001b[36m0:00:00\u001b[0m\n",
            "\u001b[?25h"
          ]
        }
      ],
      "source": [
        "!pip install -qU pyowm langchain_community"
      ]
    },
    {
      "cell_type": "code",
      "source": [
        "from google.colab import userdata\n",
        "openweathermap_api_key = userdata.get('OPENWEATHERMAP_API_KEY')"
      ],
      "metadata": {
        "id": "tebgXKuDTnQJ"
      },
      "execution_count": null,
      "outputs": []
    },
    {
      "cell_type": "code",
      "execution_count": null,
      "metadata": {
        "id": "ywMR4xh18ql_"
      },
      "outputs": [],
      "source": [
        "from langchain_community.utilities import OpenWeatherMapAPIWrapper\n",
        "\n",
        "\n",
        "weather = OpenWeatherMapAPIWrapper(openweathermap_api_key=openweathermap_api_key)"
      ]
    },
    {
      "cell_type": "code",
      "execution_count": null,
      "metadata": {
        "id": "HzdF2hym8ql_",
        "outputId": "c2acb9ba-338c-4e1f-93fe-0e9a2af3bebe",
        "colab": {
          "base_uri": "https://localhost:8080/"
        }
      },
      "outputs": [
        {
          "output_type": "stream",
          "name": "stdout",
          "text": [
            "In London, the current weather is as follows:\n",
            "Detailed status: overcast clouds\n",
            "Wind speed: 5.66 m/s, direction: 70°\n",
            "Humidity: 80%\n",
            "Temperature: \n",
            "  - Current: 1.13°C\n",
            "  - High: 2.06°C\n",
            "  - Low: 0.03°C\n",
            "  - Feels like: -3.85°C\n",
            "Rain: {}\n",
            "Heat index: None\n",
            "Cloud cover: 90%\n"
          ]
        }
      ],
      "source": [
        "weather_data = weather.run(\"London\")\n",
        "print(weather_data)"
      ]
    },
    {
      "cell_type": "markdown",
      "metadata": {
        "id": "XnmzZawO8qmA"
      },
      "source": [
        "Now, let's integrate this into function 2 and call the function two as a \"tool\" or \"weather_agent\" instead of \"node_2\" in our workflow."
      ]
    },
    {
      "cell_type": "code",
      "execution_count": null,
      "metadata": {
        "id": "n-PJb0Kj8qmA"
      },
      "outputs": [],
      "source": [
        "def function_1(input_1):\n",
        "    complete_query = \"Your task is to provide only the city name based on the user query. \\\n",
        "        Nothing more, just the city name mentioned. Following is the user query: \" + input_1\n",
        "    response = model.invoke(complete_query)\n",
        "    return response.content\n",
        "\n",
        "def function_2(input_2):\n",
        "    weather_data = weather.run(input_2)\n",
        "    return weather_data"
      ]
    },
    {
      "cell_type": "code",
      "execution_count": null,
      "metadata": {
        "id": "IFUD0pzW8qmA"
      },
      "outputs": [],
      "source": [
        "from langgraph.graph import Graph, START, END\n",
        "\n",
        "# Define a graph\n",
        "workflow = Graph()\n",
        "\n",
        "# define nodes\n",
        "workflow.add_node(\"node_1\", function_1)\n",
        "workflow.add_node(\"weather_agent\", function_2)\n",
        "\n",
        "# define edges\n",
        "workflow.add_edge(START, 'node_1')\n",
        "workflow.add_edge('node_1', 'weather_agent')\n",
        "workflow.add_edge('weather_agent', END)\n",
        "\n",
        "graph = workflow.compile()"
      ]
    },
    {
      "cell_type": "code",
      "source": [
        "from IPython.display import Image\n",
        "\n",
        "# View\n",
        "display(Image(graph.get_graph().draw_mermaid_png()))"
      ],
      "metadata": {
        "id": "zmDJTBUk1kR_",
        "colab": {
          "base_uri": "https://localhost:8080/",
          "height": 350
        },
        "outputId": "3c18ea0c-a6fe-4b96-cd77-82f46d849ac8"
      },
      "execution_count": null,
      "outputs": [
        {
          "output_type": "display_data",
          "data": {
            "image/png": "[encoded data removed]",
            "text/plain": [
              "<IPython.core.display.Image object>"
            ]
          },
          "metadata": {}
        }
      ]
    },
    {
      "cell_type": "code",
      "execution_count": null,
      "metadata": {
        "id": "duNZxbAu8qmA",
        "outputId": "3771fd77-692c-43b8-d506-b8ba197d106b",
        "colab": {
          "base_uri": "https://localhost:8080/",
          "height": 138
        }
      },
      "outputs": [
        {
          "output_type": "execute_result",
          "data": {
            "text/plain": [
              "<IPython.core.display.Markdown object>"
            ],
            "text/markdown": "> In Las Vegas, the current weather is as follows:\n> Detailed status: clear sky\n> Wind speed: 3.6 m/s, direction: 40°\n> Humidity: 27%\n> Temperature: \n>   - Current: 17.22°C\n>   - High: 18.4°C\n>   - Low: 16.17°C\n>   - Feels like: 15.7°C\n> Rain: {}\n> Heat index: None\n> Cloud cover: 0%"
          },
          "metadata": {},
          "execution_count": 66
        }
      ],
      "source": [
        "to_markdown(graph.invoke(\"What's the temperature in Las Vegas\"))"
      ]
    },
    {
      "cell_type": "code",
      "execution_count": null,
      "metadata": {
        "id": "DNiNuZT-8qmA",
        "outputId": "b178a9c0-b8e1-4f4b-eee3-69d9b0e97f6d",
        "colab": {
          "base_uri": "https://localhost:8080/"
        }
      },
      "outputs": [
        {
          "output_type": "stream",
          "name": "stdout",
          "text": [
            "Output from node 'node_1':\n",
            "---\n",
            "Las Vegas\n",
            "\n",
            "---\n",
            "\n",
            "Output from node 'weather_agent':\n",
            "---\n",
            "In Las Vegas, the current weather is as follows:\n",
            "Detailed status: clear sky\n",
            "Wind speed: 3.6 m/s, direction: 40°\n",
            "Humidity: 27%\n",
            "Temperature: \n",
            "  - Current: 17.22°C\n",
            "  - High: 18.4°C\n",
            "  - Low: 16.17°C\n",
            "  - Feels like: 15.7°C\n",
            "Rain: {}\n",
            "Heat index: None\n",
            "Cloud cover: 0%\n",
            "\n",
            "---\n",
            "\n"
          ]
        }
      ],
      "source": [
        "input = \"What's the temperature in Las Vegas\"\n",
        "for output in graph.stream(input):\n",
        "    # stream() yields dictionaries with output keyed by node name\n",
        "    for key, value in output.items():\n",
        "        print(f\"Output from node '{key}':\")\n",
        "        print(\"---\")\n",
        "        print(value)\n",
        "    print(\"\\n---\\n\")"
      ]
    },
    {
      "cell_type": "markdown",
      "metadata": {
        "id": "b8zTLlyh8qmA"
      },
      "source": [
        "### Step 3 Adding another LLM Call to filter results\n",
        "\n",
        "What if we only want the temperature? But current setup gives us the full weather report.\n",
        "\n",
        "Well we can make another LLM call to filter data"
      ]
    },
    {
      "cell_type": "code",
      "execution_count": null,
      "metadata": {
        "id": "Uu8CJy1b8qmA"
      },
      "outputs": [],
      "source": [
        "def function_3(input_3):\n",
        "    complete_query = \"Your task is to provide info concisely based on the user query. Following is the user query: \" + \"user input\"\n",
        "    response = model.invoke(complete_query)\n",
        "    return response.content"
      ]
    },
    {
      "cell_type": "markdown",
      "metadata": {
        "id": "0D-ZvlOF8qmB"
      },
      "source": [
        "But the issue is the user input is not available from node 2.\n",
        "\n",
        "Can we pass user input all along from first node to the last?\n",
        "\n",
        "Yes, we can use a dictionary and pass it between nodes (we could also use just a list, but dict makes it a bit easier)"
      ]
    },
    {
      "cell_type": "code",
      "execution_count": null,
      "metadata": {
        "id": "fsZvoiDd8qmB"
      },
      "outputs": [],
      "source": [
        "# assign AgentState as an empty dict\n",
        "AgentState = {}\n",
        "\n",
        "# messages key will be assigned as an empty array. We will append new messages as we pass along nodes.\n",
        "AgentState[\"messages\"] = []"
      ]
    },
    {
      "cell_type": "code",
      "execution_count": null,
      "metadata": {
        "id": "ZcgSp0KM8qmB",
        "outputId": "71dffda9-a69d-4265-d224-3a768a2cde33",
        "colab": {
          "base_uri": "https://localhost:8080/"
        }
      },
      "outputs": [
        {
          "output_type": "execute_result",
          "data": {
            "text/plain": [
              "{'messages': []}"
            ]
          },
          "metadata": {},
          "execution_count": 70
        }
      ],
      "source": [
        "AgentState"
      ]
    },
    {
      "cell_type": "markdown",
      "metadata": {
        "id": "CqC8ekXA8qmH"
      },
      "source": [
        "Our goal is to have this state filled as:\n",
        "{'messages': [HumanMessage, AIMessage, ...]]}\n",
        "\n",
        "Also now we need to modify our functions to pass info along the new AgentState"
      ]
    },
    {
      "cell_type": "code",
      "execution_count": null,
      "metadata": {
        "id": "I2p11_u18qmI"
      },
      "outputs": [],
      "source": [
        "def function_1(state):\n",
        "    messages = state['messages']\n",
        "    user_input = messages[-1]\n",
        "    complete_query = \"Your task is to provide only the city name based on the user query. \\\n",
        "                    Nothing more, just the city name mentioned. Following is the user query: \" + user_input\n",
        "    response = model.invoke(complete_query)\n",
        "    state['messages'].append(response.content) # appending AIMessage response to the AgentState\n",
        "    return state\n",
        "\n",
        "def function_2(state):\n",
        "    messages = state['messages']\n",
        "    agent_response = messages[-1]\n",
        "    weather = OpenWeatherMapAPIWrapper(openweathermap_api_key=openweathermap_api_key)\n",
        "    weather_data = weather.run(agent_response)\n",
        "    state['messages'].append(weather_data)\n",
        "    return state\n",
        "\n",
        "def function_3(state):\n",
        "    messages = state['messages']\n",
        "    user_input = messages[0]\n",
        "    available_info = messages[-1]\n",
        "    agent2_query = \"Your task is to provide info concisely based on the user query and the available information from the internet. \\\n",
        "                        Following is the user query: \" + user_input + \" Available information: \" + available_info\n",
        "    response = model.invoke(agent2_query)\n",
        "    return response.content\n"
      ]
    },
    {
      "cell_type": "code",
      "execution_count": null,
      "metadata": {
        "id": "uay5ow9k8qmI"
      },
      "outputs": [],
      "source": [
        "from langgraph.graph import Graph, START, END\n",
        "\n",
        "# Define a graph\n",
        "workflow = Graph()\n",
        "\n",
        "# define nodes\n",
        "workflow.add_node(\"agent\", function_1)\n",
        "workflow.add_node(\"tool\", function_2)\n",
        "workflow.add_node(\"responder\",function_3)\n",
        "\n",
        "# define edges\n",
        "workflow.add_edge(START, 'agent')\n",
        "workflow.add_edge('agent', 'tool')\n",
        "workflow.add_edge('tool', 'responder')\n",
        "workflow.add_edge('responder', END)\n",
        "\n",
        "graph = workflow.compile()"
      ]
    },
    {
      "cell_type": "code",
      "source": [
        "from IPython.display import Image\n",
        "\n",
        "# View\n",
        "display(Image(graph.get_graph().draw_mermaid_png()))"
      ],
      "metadata": {
        "id": "mWeQCY7P1nDo",
        "colab": {
          "base_uri": "https://localhost:8080/",
          "height": 449
        },
        "outputId": "b0904d48-5418-4200-b306-b8016a1fa721"
      },
      "execution_count": null,
      "outputs": [
        {
          "output_type": "display_data",
          "data": {
            "image/png": "[encoded data removed]",
            "text/plain": [
              "<IPython.core.display.Image object>"
            ]
          },
          "metadata": {}
        }
      ]
    },
    {
      "cell_type": "code",
      "source": [
        "# graph.invoke(\"what is the temperature in Lahore\")"
      ],
      "metadata": {
        "id": "YAETsa9feXa2"
      },
      "execution_count": null,
      "outputs": []
    },
    {
      "cell_type": "code",
      "execution_count": null,
      "metadata": {
        "id": "g6W2x7xI8qmI",
        "outputId": "2e1b60c2-b51e-41db-e8ac-c1a38d500545",
        "colab": {
          "base_uri": "https://localhost:8080/",
          "height": 35
        }
      },
      "outputs": [
        {
          "output_type": "execute_result",
          "data": {
            "text/plain": [
              "'The current temperature in Las Vegas is 17.22°C, but it feels like 15.7°C. The high for today is 18.4°C and the low is 16.17°C.'"
            ],
            "application/vnd.google.colaboratory.intrinsic+json": {
              "type": "string"
            }
          },
          "metadata": {},
          "execution_count": 75
        }
      ],
      "source": [
        "inputs = {\"messages\": [\"what is the temperature in las vegas\"]}\n",
        "graph.invoke(inputs)"
      ]
    },
    {
      "cell_type": "code",
      "execution_count": null,
      "metadata": {
        "id": "J6OV81OV8qmI",
        "outputId": "d5775699-9513-4d4c-d7e1-7dd7e10f9c51",
        "colab": {
          "base_uri": "https://localhost:8080/"
        }
      },
      "outputs": [
        {
          "output_type": "stream",
          "name": "stderr",
          "text": [
            "WARNING:langchain_google_genai.chat_models:Retrying langchain_google_genai.chat_models._chat_with_retry.<locals>._chat_with_retry in 2.0 seconds as it raised ResourceExhausted: 429 Resource has been exhausted (e.g. check quota)..\n"
          ]
        },
        {
          "output_type": "stream",
          "name": "stdout",
          "text": [
            "Output from node 'agent':\n",
            "---\n",
            "{'messages': ['what is the temperature in las vegas', 'Las Vegas']}\n",
            "\n",
            "---\n",
            "\n",
            "Output from node 'tool':\n",
            "---\n",
            "{'messages': ['what is the temperature in las vegas', 'Las Vegas', 'In Las Vegas, the current weather is as follows:\\nDetailed status: clear sky\\nWind speed: 3.6 m/s, direction: 40°\\nHumidity: 27%\\nTemperature: \\n  - Current: 17.22°C\\n  - High: 18.4°C\\n  - Low: 16.17°C\\n  - Feels like: 15.7°C\\nRain: {}\\nHeat index: None\\nCloud cover: 0%']}\n",
            "\n",
            "---\n",
            "\n",
            "Output from node 'responder':\n",
            "---\n",
            "The current temperature in Las Vegas is 17.22°C, but it feels like 15.7°C. The high for today is 18.4°C and the low is 16.17°C.\n",
            "\n",
            "---\n",
            "\n"
          ]
        }
      ],
      "source": [
        "input = {\"messages\": [\"what is the temperature in las vegas\"]}\n",
        "for output in graph.stream(input):\n",
        "    # stream() yields dictionaries with output keyed by node name\n",
        "    for key, value in output.items():\n",
        "        print(f\"Output from node '{key}':\")\n",
        "        print(\"---\")\n",
        "        print(value)\n",
        "    print(\"\\n---\\n\")"
      ]
    },
    {
      "cell_type": "markdown",
      "source": [
        "# **State**\n",
        "- First, define the State of the graph.\n",
        "\n",
        "- The State schema serves as the input schema for all Nodes and Edges in the graph.\n",
        "\n",
        "Let's use the TypedDict class from python's typing module as our schema, which provides type hints for the keys."
      ],
      "metadata": {
        "id": "g0PnRXCHu6EB"
      }
    },
    {
      "cell_type": "markdown",
      "metadata": {
        "id": "ZFONdERN8qmI"
      },
      "source": [
        "As we notice that there is a lot of appending to the array going on, we can make it a bit easier with the following:\n",
        "\n",
        "```bash\n",
        "from typing import TypedDict, Annotated\n",
        "from langchain_core.messages import AnyMessage\n",
        "from langgraph.graph.message import add_messages\n",
        "\n",
        "\n",
        "class AgentState(TypedDict):\n",
        "    messages: Annotated[list[AnyMessage], add_messages]\n"
      ]
    },
    {
      "cell_type": "markdown",
      "metadata": {
        "id": "_bm0wmc28qmI"
      },
      "source": [
        "It basically makes the state dictionary as saw previously, and also makes sure that any new message is appended to the messages array when we do the following:\n",
        "```bash\n",
        "{\"messages\": [new_array_element]}\n",
        "```"
      ]
    },
    {
      "cell_type": "markdown",
      "metadata": {
        "id": "kybF5kNy8qmI"
      },
      "source": [
        "\n",
        "##### We also realize that our app is not capable of answering simple questions like \"how are you?\""
      ]
    },
    {
      "cell_type": "code",
      "execution_count": null,
      "metadata": {
        "id": "otyNq8S68qmI",
        "outputId": "6a4d7b94-e055-4a3c-ef3a-a4d91fe97a8f",
        "colab": {
          "base_uri": "https://localhost:8080/",
          "height": 304
        }
      },
      "outputs": [
        {
          "output_type": "error",
          "ename": "NotFoundError",
          "evalue": "Unable to find the resource",
          "traceback": [
            "\u001b[0;31m---------------------------------------------------------------------------\u001b[0m",
            "\u001b[0;31mNotFoundError\u001b[0m                             Traceback (most recent call last)",
            "\u001b[0;32m<ipython-input-77-3c9748298396>\u001b[0m in \u001b[0;36m<cell line: 0>\u001b[0;34m()\u001b[0m\n\u001b[1;32m      1\u001b[0m \u001b[0minputs\u001b[0m \u001b[0;34m=\u001b[0m \u001b[0;34m{\u001b[0m\u001b[0;34m\"messages\"\u001b[0m\u001b[0;34m:\u001b[0m \u001b[0;34m[\u001b[0m\u001b[0;34m\"hello\"\u001b[0m\u001b[0;34m]\u001b[0m\u001b[0;34m}\u001b[0m\u001b[0;34m\u001b[0m\u001b[0;34m\u001b[0m\u001b[0m\n\u001b[0;32m----> 2\u001b[0;31m \u001b[0mgraph\u001b[0m\u001b[0;34m.\u001b[0m\u001b[0minvoke\u001b[0m\u001b[0;34m(\u001b[0m\u001b[0minputs\u001b[0m\u001b[0;34m)\u001b[0m\u001b[0;34m\u001b[0m\u001b[0;34m\u001b[0m\u001b[0m\n\u001b[0m",
            "\u001b[0;32m/usr/local/lib/python3.11/dist-packages/langgraph/pregel/__init__.py\u001b[0m in \u001b[0;36minvoke\u001b[0;34m(self, input, config, stream_mode, output_keys, interrupt_before, interrupt_after, debug, **kwargs)\u001b[0m\n\u001b[1;32m   2140\u001b[0m         \u001b[0;32melse\u001b[0m\u001b[0;34m:\u001b[0m\u001b[0;34m\u001b[0m\u001b[0;34m\u001b[0m\u001b[0m\n\u001b[1;32m   2141\u001b[0m             \u001b[0mchunks\u001b[0m \u001b[0;34m=\u001b[0m \u001b[0;34m[\u001b[0m\u001b[0;34m]\u001b[0m\u001b[0;34m\u001b[0m\u001b[0;34m\u001b[0m\u001b[0m\n\u001b[0;32m-> 2142\u001b[0;31m         for chunk in self.stream(\n\u001b[0m\u001b[1;32m   2143\u001b[0m             \u001b[0minput\u001b[0m\u001b[0;34m,\u001b[0m\u001b[0;34m\u001b[0m\u001b[0;34m\u001b[0m\u001b[0m\n\u001b[1;32m   2144\u001b[0m             \u001b[0mconfig\u001b[0m\u001b[0;34m,\u001b[0m\u001b[0;34m\u001b[0m\u001b[0;34m\u001b[0m\u001b[0m\n",
            "\u001b[0;32m/usr/local/lib/python3.11/dist-packages/langgraph/pregel/__init__.py\u001b[0m in \u001b[0;36mstream\u001b[0;34m(self, input, config, stream_mode, output_keys, interrupt_before, interrupt_after, debug, subgraphs)\u001b[0m\n\u001b[1;32m   1795\u001b[0m                 \u001b[0;31m# with channel updates applied only at the transition between steps.\u001b[0m\u001b[0;34m\u001b[0m\u001b[0;34m\u001b[0m\u001b[0m\n\u001b[1;32m   1796\u001b[0m                 \u001b[0;32mwhile\u001b[0m \u001b[0mloop\u001b[0m\u001b[0;34m.\u001b[0m\u001b[0mtick\u001b[0m\u001b[0;34m(\u001b[0m\u001b[0minput_keys\u001b[0m\u001b[0;34m=\u001b[0m\u001b[0mself\u001b[0m\u001b[0;34m.\u001b[0m\u001b[0minput_channels\u001b[0m\u001b[0;34m)\u001b[0m\u001b[0;34m:\u001b[0m\u001b[0;34m\u001b[0m\u001b[0;34m\u001b[0m\u001b[0m\n\u001b[0;32m-> 1797\u001b[0;31m                     for _ in runner.tick(\n\u001b[0m\u001b[1;32m   1798\u001b[0m                         \u001b[0mloop\u001b[0m\u001b[0;34m.\u001b[0m\u001b[0mtasks\u001b[0m\u001b[0;34m.\u001b[0m\u001b[0mvalues\u001b[0m\u001b[0;34m(\u001b[0m\u001b[0;34m)\u001b[0m\u001b[0;34m,\u001b[0m\u001b[0;34m\u001b[0m\u001b[0;34m\u001b[0m\u001b[0m\n\u001b[1;32m   1799\u001b[0m                         \u001b[0mtimeout\u001b[0m\u001b[0;34m=\u001b[0m\u001b[0mself\u001b[0m\u001b[0;34m.\u001b[0m\u001b[0mstep_timeout\u001b[0m\u001b[0;34m,\u001b[0m\u001b[0;34m\u001b[0m\u001b[0;34m\u001b[0m\u001b[0m\n",
            "\u001b[0;32m/usr/local/lib/python3.11/dist-packages/langgraph/pregel/runner.py\u001b[0m in \u001b[0;36mtick\u001b[0;34m(self, tasks, reraise, timeout, retry_policy, get_waiter)\u001b[0m\n\u001b[1;32m    228\u001b[0m             \u001b[0mt\u001b[0m \u001b[0;34m=\u001b[0m \u001b[0mtasks\u001b[0m\u001b[0;34m[\u001b[0m\u001b[0;36m0\u001b[0m\u001b[0;34m]\u001b[0m\u001b[0;34m\u001b[0m\u001b[0;34m\u001b[0m\u001b[0m\n\u001b[1;32m    229\u001b[0m             \u001b[0;32mtry\u001b[0m\u001b[0;34m:\u001b[0m\u001b[0;34m\u001b[0m\u001b[0;34m\u001b[0m\u001b[0m\n\u001b[0;32m--> 230\u001b[0;31m                 run_with_retry(\n\u001b[0m\u001b[1;32m    231\u001b[0m                     \u001b[0mt\u001b[0m\u001b[0;34m,\u001b[0m\u001b[0;34m\u001b[0m\u001b[0;34m\u001b[0m\u001b[0m\n\u001b[1;32m    232\u001b[0m                     \u001b[0mretry_policy\u001b[0m\u001b[0;34m,\u001b[0m\u001b[0;34m\u001b[0m\u001b[0;34m\u001b[0m\u001b[0m\n",
            "\u001b[0;32m/usr/local/lib/python3.11/dist-packages/langgraph/pregel/retry.py\u001b[0m in \u001b[0;36mrun_with_retry\u001b[0;34m(task, retry_policy, configurable)\u001b[0m\n\u001b[1;32m     38\u001b[0m             \u001b[0mtask\u001b[0m\u001b[0;34m.\u001b[0m\u001b[0mwrites\u001b[0m\u001b[0;34m.\u001b[0m\u001b[0mclear\u001b[0m\u001b[0;34m(\u001b[0m\u001b[0;34m)\u001b[0m\u001b[0;34m\u001b[0m\u001b[0;34m\u001b[0m\u001b[0m\n\u001b[1;32m     39\u001b[0m             \u001b[0;31m# run the task\u001b[0m\u001b[0;34m\u001b[0m\u001b[0;34m\u001b[0m\u001b[0m\n\u001b[0;32m---> 40\u001b[0;31m             \u001b[0;32mreturn\u001b[0m \u001b[0mtask\u001b[0m\u001b[0;34m.\u001b[0m\u001b[0mproc\u001b[0m\u001b[0;34m.\u001b[0m\u001b[0minvoke\u001b[0m\u001b[0;34m(\u001b[0m\u001b[0mtask\u001b[0m\u001b[0;34m.\u001b[0m\u001b[0minput\u001b[0m\u001b[0;34m,\u001b[0m \u001b[0mconfig\u001b[0m\u001b[0;34m)\u001b[0m\u001b[0;34m\u001b[0m\u001b[0;34m\u001b[0m\u001b[0m\n\u001b[0m\u001b[1;32m     41\u001b[0m         \u001b[0;32mexcept\u001b[0m \u001b[0mParentCommand\u001b[0m \u001b[0;32mas\u001b[0m \u001b[0mexc\u001b[0m\u001b[0;34m:\u001b[0m\u001b[0;34m\u001b[0m\u001b[0;34m\u001b[0m\u001b[0m\n\u001b[1;32m     42\u001b[0m             \u001b[0mns\u001b[0m\u001b[0;34m:\u001b[0m \u001b[0mstr\u001b[0m \u001b[0;34m=\u001b[0m \u001b[0mconfig\u001b[0m\u001b[0;34m[\u001b[0m\u001b[0mCONF\u001b[0m\u001b[0;34m]\u001b[0m\u001b[0;34m[\u001b[0m\u001b[0mCONFIG_KEY_CHECKPOINT_NS\u001b[0m\u001b[0;34m]\u001b[0m\u001b[0;34m\u001b[0m\u001b[0;34m\u001b[0m\u001b[0m\n",
            "\u001b[0;32m/usr/local/lib/python3.11/dist-packages/langgraph/utils/runnable.py\u001b[0m in \u001b[0;36minvoke\u001b[0;34m(self, input, config, **kwargs)\u001b[0m\n\u001b[1;32m    544\u001b[0m                 )\n\u001b[1;32m    545\u001b[0m                 \u001b[0;32mif\u001b[0m \u001b[0mi\u001b[0m \u001b[0;34m==\u001b[0m \u001b[0;36m0\u001b[0m\u001b[0;34m:\u001b[0m\u001b[0;34m\u001b[0m\u001b[0;34m\u001b[0m\u001b[0m\n\u001b[0;32m--> 546\u001b[0;31m                     \u001b[0minput\u001b[0m \u001b[0;34m=\u001b[0m \u001b[0mstep\u001b[0m\u001b[0;34m.\u001b[0m\u001b[0minvoke\u001b[0m\u001b[0;34m(\u001b[0m\u001b[0minput\u001b[0m\u001b[0;34m,\u001b[0m \u001b[0mconfig\u001b[0m\u001b[0;34m,\u001b[0m \u001b[0;34m**\u001b[0m\u001b[0mkwargs\u001b[0m\u001b[0;34m)\u001b[0m\u001b[0;34m\u001b[0m\u001b[0;34m\u001b[0m\u001b[0m\n\u001b[0m\u001b[1;32m    547\u001b[0m                 \u001b[0;32melse\u001b[0m\u001b[0;34m:\u001b[0m\u001b[0;34m\u001b[0m\u001b[0;34m\u001b[0m\u001b[0m\n\u001b[1;32m    548\u001b[0m                     \u001b[0minput\u001b[0m \u001b[0;34m=\u001b[0m \u001b[0mstep\u001b[0m\u001b[0;34m.\u001b[0m\u001b[0minvoke\u001b[0m\u001b[0;34m(\u001b[0m\u001b[0minput\u001b[0m\u001b[0;34m,\u001b[0m \u001b[0mconfig\u001b[0m\u001b[0;34m)\u001b[0m\u001b[0;34m\u001b[0m\u001b[0;34m\u001b[0m\u001b[0m\n",
            "\u001b[0;32m/usr/local/lib/python3.11/dist-packages/langgraph/utils/runnable.py\u001b[0m in \u001b[0;36minvoke\u001b[0;34m(self, input, config, **kwargs)\u001b[0m\n\u001b[1;32m    308\u001b[0m         \u001b[0;32melse\u001b[0m\u001b[0;34m:\u001b[0m\u001b[0;34m\u001b[0m\u001b[0;34m\u001b[0m\u001b[0m\n\u001b[1;32m    309\u001b[0m             \u001b[0mcontext\u001b[0m\u001b[0;34m.\u001b[0m\u001b[0mrun\u001b[0m\u001b[0;34m(\u001b[0m\u001b[0m_set_config_context\u001b[0m\u001b[0;34m,\u001b[0m \u001b[0mconfig\u001b[0m\u001b[0;34m)\u001b[0m\u001b[0;34m\u001b[0m\u001b[0;34m\u001b[0m\u001b[0m\n\u001b[0;32m--> 310\u001b[0;31m             \u001b[0mret\u001b[0m \u001b[0;34m=\u001b[0m \u001b[0mcontext\u001b[0m\u001b[0;34m.\u001b[0m\u001b[0mrun\u001b[0m\u001b[0;34m(\u001b[0m\u001b[0mself\u001b[0m\u001b[0;34m.\u001b[0m\u001b[0mfunc\u001b[0m\u001b[0;34m,\u001b[0m \u001b[0;34m*\u001b[0m\u001b[0margs\u001b[0m\u001b[0;34m,\u001b[0m \u001b[0;34m**\u001b[0m\u001b[0mkwargs\u001b[0m\u001b[0;34m)\u001b[0m\u001b[0;34m\u001b[0m\u001b[0;34m\u001b[0m\u001b[0m\n\u001b[0m\u001b[1;32m    311\u001b[0m         \u001b[0;32mif\u001b[0m \u001b[0misinstance\u001b[0m\u001b[0;34m(\u001b[0m\u001b[0mret\u001b[0m\u001b[0;34m,\u001b[0m \u001b[0mRunnable\u001b[0m\u001b[0;34m)\u001b[0m \u001b[0;32mand\u001b[0m \u001b[0mself\u001b[0m\u001b[0;34m.\u001b[0m\u001b[0mrecurse\u001b[0m\u001b[0;34m:\u001b[0m\u001b[0;34m\u001b[0m\u001b[0;34m\u001b[0m\u001b[0m\n\u001b[1;32m    312\u001b[0m             \u001b[0;32mreturn\u001b[0m \u001b[0mret\u001b[0m\u001b[0;34m.\u001b[0m\u001b[0minvoke\u001b[0m\u001b[0;34m(\u001b[0m\u001b[0minput\u001b[0m\u001b[0;34m,\u001b[0m \u001b[0mconfig\u001b[0m\u001b[0;34m)\u001b[0m\u001b[0;34m\u001b[0m\u001b[0;34m\u001b[0m\u001b[0m\n",
            "\u001b[0;32m<ipython-input-71-b64ed4cc9e42>\u001b[0m in \u001b[0;36mfunction_2\u001b[0;34m(state)\u001b[0m\n\u001b[1;32m     12\u001b[0m     \u001b[0magent_response\u001b[0m \u001b[0;34m=\u001b[0m \u001b[0mmessages\u001b[0m\u001b[0;34m[\u001b[0m\u001b[0;34m-\u001b[0m\u001b[0;36m1\u001b[0m\u001b[0;34m]\u001b[0m\u001b[0;34m\u001b[0m\u001b[0;34m\u001b[0m\u001b[0m\n\u001b[1;32m     13\u001b[0m     \u001b[0mweather\u001b[0m \u001b[0;34m=\u001b[0m \u001b[0mOpenWeatherMapAPIWrapper\u001b[0m\u001b[0;34m(\u001b[0m\u001b[0mopenweathermap_api_key\u001b[0m\u001b[0;34m=\u001b[0m\u001b[0mopenweathermap_api_key\u001b[0m\u001b[0;34m)\u001b[0m\u001b[0;34m\u001b[0m\u001b[0;34m\u001b[0m\u001b[0m\n\u001b[0;32m---> 14\u001b[0;31m     \u001b[0mweather_data\u001b[0m \u001b[0;34m=\u001b[0m \u001b[0mweather\u001b[0m\u001b[0;34m.\u001b[0m\u001b[0mrun\u001b[0m\u001b[0;34m(\u001b[0m\u001b[0magent_response\u001b[0m\u001b[0;34m)\u001b[0m\u001b[0;34m\u001b[0m\u001b[0;34m\u001b[0m\u001b[0m\n\u001b[0m\u001b[1;32m     15\u001b[0m     \u001b[0mstate\u001b[0m\u001b[0;34m[\u001b[0m\u001b[0;34m'messages'\u001b[0m\u001b[0;34m]\u001b[0m\u001b[0;34m.\u001b[0m\u001b[0mappend\u001b[0m\u001b[0;34m(\u001b[0m\u001b[0mweather_data\u001b[0m\u001b[0;34m)\u001b[0m\u001b[0;34m\u001b[0m\u001b[0;34m\u001b[0m\u001b[0m\n\u001b[1;32m     16\u001b[0m     \u001b[0;32mreturn\u001b[0m \u001b[0mstate\u001b[0m\u001b[0;34m\u001b[0m\u001b[0;34m\u001b[0m\u001b[0m\n",
            "\u001b[0;32m/usr/local/lib/python3.11/dist-packages/langchain_community/utilities/openweathermap.py\u001b[0m in \u001b[0;36mrun\u001b[0;34m(self, location)\u001b[0m\n\u001b[1;32m     72\u001b[0m         \u001b[0;34m\"\"\"Get the current weather information for a specified location.\"\"\"\u001b[0m\u001b[0;34m\u001b[0m\u001b[0;34m\u001b[0m\u001b[0m\n\u001b[1;32m     73\u001b[0m         \u001b[0mmgr\u001b[0m \u001b[0;34m=\u001b[0m \u001b[0mself\u001b[0m\u001b[0;34m.\u001b[0m\u001b[0mowm\u001b[0m\u001b[0;34m.\u001b[0m\u001b[0mweather_manager\u001b[0m\u001b[0;34m(\u001b[0m\u001b[0;34m)\u001b[0m\u001b[0;34m\u001b[0m\u001b[0;34m\u001b[0m\u001b[0m\n\u001b[0;32m---> 74\u001b[0;31m         \u001b[0mobservation\u001b[0m \u001b[0;34m=\u001b[0m \u001b[0mmgr\u001b[0m\u001b[0;34m.\u001b[0m\u001b[0mweather_at_place\u001b[0m\u001b[0;34m(\u001b[0m\u001b[0mlocation\u001b[0m\u001b[0;34m)\u001b[0m\u001b[0;34m\u001b[0m\u001b[0;34m\u001b[0m\u001b[0m\n\u001b[0m\u001b[1;32m     75\u001b[0m         \u001b[0mw\u001b[0m \u001b[0;34m=\u001b[0m \u001b[0mobservation\u001b[0m\u001b[0;34m.\u001b[0m\u001b[0mweather\u001b[0m\u001b[0;34m\u001b[0m\u001b[0;34m\u001b[0m\u001b[0m\n\u001b[1;32m     76\u001b[0m \u001b[0;34m\u001b[0m\u001b[0m\n",
            "\u001b[0;32m/usr/local/lib/python3.11/dist-packages/pyowm/weatherapi25/weather_manager.py\u001b[0m in \u001b[0;36mweather_at_place\u001b[0;34m(self, name)\u001b[0m\n\u001b[1;32m     51\u001b[0m         \u001b[0;32massert\u001b[0m \u001b[0misinstance\u001b[0m\u001b[0;34m(\u001b[0m\u001b[0mname\u001b[0m\u001b[0;34m,\u001b[0m \u001b[0mstr\u001b[0m\u001b[0;34m)\u001b[0m\u001b[0;34m,\u001b[0m \u001b[0;34m\"Value must be a string\"\u001b[0m\u001b[0;34m\u001b[0m\u001b[0;34m\u001b[0m\u001b[0m\n\u001b[1;32m     52\u001b[0m         \u001b[0mparams\u001b[0m \u001b[0;34m=\u001b[0m \u001b[0;34m{\u001b[0m\u001b[0;34m'q'\u001b[0m\u001b[0;34m:\u001b[0m \u001b[0mname\u001b[0m\u001b[0;34m}\u001b[0m\u001b[0;34m\u001b[0m\u001b[0;34m\u001b[0m\u001b[0m\n\u001b[0;32m---> 53\u001b[0;31m         \u001b[0m_\u001b[0m\u001b[0;34m,\u001b[0m \u001b[0mjson_data\u001b[0m \u001b[0;34m=\u001b[0m \u001b[0mself\u001b[0m\u001b[0;34m.\u001b[0m\u001b[0mhttp_client\u001b[0m\u001b[0;34m.\u001b[0m\u001b[0mget_json\u001b[0m\u001b[0;34m(\u001b[0m\u001b[0mOBSERVATION_URI\u001b[0m\u001b[0;34m,\u001b[0m \u001b[0mparams\u001b[0m\u001b[0;34m=\u001b[0m\u001b[0mparams\u001b[0m\u001b[0;34m)\u001b[0m\u001b[0;34m\u001b[0m\u001b[0;34m\u001b[0m\u001b[0m\n\u001b[0m\u001b[1;32m     54\u001b[0m         \u001b[0;32mreturn\u001b[0m \u001b[0mobservation\u001b[0m\u001b[0;34m.\u001b[0m\u001b[0mObservation\u001b[0m\u001b[0;34m.\u001b[0m\u001b[0mfrom_dict\u001b[0m\u001b[0;34m(\u001b[0m\u001b[0mjson_data\u001b[0m\u001b[0;34m)\u001b[0m\u001b[0;34m\u001b[0m\u001b[0;34m\u001b[0m\u001b[0m\n\u001b[1;32m     55\u001b[0m \u001b[0;34m\u001b[0m\u001b[0m\n",
            "\u001b[0;32m/usr/local/lib/python3.11/dist-packages/pyowm/commons/http_client.py\u001b[0m in \u001b[0;36mget_json\u001b[0;34m(self, path, params, headers)\u001b[0m\n\u001b[1;32m    156\u001b[0m         \u001b[0;32mexcept\u001b[0m \u001b[0mrequests\u001b[0m\u001b[0;34m.\u001b[0m\u001b[0mexceptions\u001b[0m\u001b[0;34m.\u001b[0m\u001b[0mTimeout\u001b[0m\u001b[0;34m:\u001b[0m\u001b[0;34m\u001b[0m\u001b[0;34m\u001b[0m\u001b[0m\n\u001b[1;32m    157\u001b[0m             \u001b[0;32mraise\u001b[0m \u001b[0mexceptions\u001b[0m\u001b[0;34m.\u001b[0m\u001b[0mTimeoutError\u001b[0m\u001b[0;34m(\u001b[0m\u001b[0;34m'API call timeouted'\u001b[0m\u001b[0;34m)\u001b[0m\u001b[0;34m\u001b[0m\u001b[0;34m\u001b[0m\u001b[0m\n\u001b[0;32m--> 158\u001b[0;31m         \u001b[0mHttpClient\u001b[0m\u001b[0;34m.\u001b[0m\u001b[0mcheck_status_code\u001b[0m\u001b[0;34m(\u001b[0m\u001b[0mresp\u001b[0m\u001b[0;34m.\u001b[0m\u001b[0mstatus_code\u001b[0m\u001b[0;34m,\u001b[0m \u001b[0mresp\u001b[0m\u001b[0;34m.\u001b[0m\u001b[0mtext\u001b[0m\u001b[0;34m)\u001b[0m\u001b[0;34m\u001b[0m\u001b[0;34m\u001b[0m\u001b[0m\n\u001b[0m\u001b[1;32m    159\u001b[0m         \u001b[0;32mtry\u001b[0m\u001b[0;34m:\u001b[0m\u001b[0;34m\u001b[0m\u001b[0;34m\u001b[0m\u001b[0m\n\u001b[1;32m    160\u001b[0m             \u001b[0;32mreturn\u001b[0m \u001b[0mresp\u001b[0m\u001b[0;34m.\u001b[0m\u001b[0mstatus_code\u001b[0m\u001b[0;34m,\u001b[0m \u001b[0mresp\u001b[0m\u001b[0;34m.\u001b[0m\u001b[0mjson\u001b[0m\u001b[0;34m(\u001b[0m\u001b[0;34m)\u001b[0m\u001b[0;34m\u001b[0m\u001b[0;34m\u001b[0m\u001b[0m\n",
            "\u001b[0;32m/usr/local/lib/python3.11/dist-packages/pyowm/commons/http_client.py\u001b[0m in \u001b[0;36mcheck_status_code\u001b[0;34m(cls, status_code, payload)\u001b[0m\n\u001b[1;32m    313\u001b[0m             \u001b[0;32mraise\u001b[0m \u001b[0mexceptions\u001b[0m\u001b[0;34m.\u001b[0m\u001b[0mUnauthorizedError\u001b[0m\u001b[0;34m(\u001b[0m\u001b[0;34m'Invalid API Key provided'\u001b[0m\u001b[0;34m)\u001b[0m\u001b[0;34m\u001b[0m\u001b[0;34m\u001b[0m\u001b[0m\n\u001b[1;32m    314\u001b[0m         \u001b[0;32melif\u001b[0m \u001b[0mstatus_code\u001b[0m \u001b[0;34m==\u001b[0m \u001b[0;36m404\u001b[0m\u001b[0;34m:\u001b[0m\u001b[0;34m\u001b[0m\u001b[0;34m\u001b[0m\u001b[0m\n\u001b[0;32m--> 315\u001b[0;31m             \u001b[0;32mraise\u001b[0m \u001b[0mexceptions\u001b[0m\u001b[0;34m.\u001b[0m\u001b[0mNotFoundError\u001b[0m\u001b[0;34m(\u001b[0m\u001b[0;34m'Unable to find the resource'\u001b[0m\u001b[0;34m)\u001b[0m\u001b[0;34m\u001b[0m\u001b[0;34m\u001b[0m\u001b[0m\n\u001b[0m\u001b[1;32m    316\u001b[0m         \u001b[0;32melse\u001b[0m\u001b[0;34m:\u001b[0m\u001b[0;34m\u001b[0m\u001b[0;34m\u001b[0m\u001b[0m\n\u001b[1;32m    317\u001b[0m             \u001b[0;32mraise\u001b[0m \u001b[0mexceptions\u001b[0m\u001b[0;34m.\u001b[0m\u001b[0mBadGatewayError\u001b[0m\u001b[0;34m(\u001b[0m\u001b[0;34m'Unable to contact the upstream server'\u001b[0m\u001b[0;34m)\u001b[0m\u001b[0;34m\u001b[0m\u001b[0;34m\u001b[0m\u001b[0m\n",
            "\u001b[0;31mNotFoundError\u001b[0m: Unable to find the resource"
          ]
        }
      ],
      "source": [
        "inputs = {\"messages\": [\"hello\"]}\n",
        "graph.invoke(inputs)"
      ]
    },
    {
      "cell_type": "markdown",
      "metadata": {
        "id": "n99OGZk68qmJ"
      },
      "source": [
        "This is because we always want to parse a city and then find the weather.\n",
        "\n",
        "We can make our agent smarter by saying only use the tool when needed, if not just respond back to the user.\n",
        "\n",
        "The way we can do this LangGraph is:\n",
        "1. binding a tool to the agent\n",
        "2. adding a conditional edge to the agent with the option to either call the tool or not\n",
        "3. defining the criteria for the conditional edge as when to call the tool. We will define a function for this.\n",
        "\n",
        "\n",
        "Let's start with the AgentState definition as mentioned a few cells above."
      ]
    },
    {
      "cell_type": "code",
      "execution_count": null,
      "metadata": {
        "id": "rN7Axltd8qmJ"
      },
      "outputs": [],
      "source": [
        "from typing import TypedDict, Annotated\n",
        "from langgraph.graph import MessagesState\n",
        "from langchain_core.messages import AnyMessage\n",
        "from langgraph.graph.message import add_messages\n",
        "\n",
        "\n",
        "# Define a custom TypedDict that includes a list of messages with add_messages reducer\n",
        "class AgentState(TypedDict):\n",
        "    messages: Annotated[list[AnyMessage], add_messages]"
      ]
    },
    {
      "cell_type": "markdown",
      "metadata": {
        "id": "7kinGzIt8qmJ"
      },
      "source": [
        "Binding tool with agent (LLM Model) is made easy in langchain"
      ]
    },
    {
      "cell_type": "code",
      "source": [
        "# access environment variables\n",
        "\n",
        "from google.colab import userdata\n",
        "gemini_api_key = userdata.get('GEMINI_API_KEY')\n",
        "\n",
        "from google.colab import userdata\n",
        "openweathermap_api_key = userdata.get('OPENWEATHERMAP_API_KEY')"
      ],
      "metadata": {
        "id": "ZxfQMQp9iYMZ"
      },
      "execution_count": null,
      "outputs": []
    },
    {
      "cell_type": "code",
      "execution_count": null,
      "metadata": {
        "id": "lhQXndI68qmJ"
      },
      "outputs": [],
      "source": [
        "from langchain_google_genai import ChatGoogleGenerativeAI\n",
        "from langchain_community.utilities import OpenWeatherMapAPIWrapper\n",
        "from langchain_core.tools import tool\n",
        "\n",
        "# Initialize an instance of the ChatGoogleGenerativeAI with specific parameters\n",
        "llm: ChatGoogleGenerativeAI = ChatGoogleGenerativeAI(\n",
        "    # model=\"gemini-1.5-flash\",  # Specify the model to use\n",
        "    model=\"gemini-2.0-flash-exp\",\n",
        "    api_key=gemini_api_key    # Provide the Google API key for authentication\n",
        ")\n",
        "\n",
        "\n",
        "weather = OpenWeatherMapAPIWrapper(openweathermap_api_key=openweathermap_api_key)\n",
        "\n",
        "@tool\n",
        "def get_weather(city: str):\n",
        "    \"\"\"Get the current weather in a given city.\n",
        "\n",
        "    Args:\n",
        "        city: The city to get the weather for.\n",
        "\n",
        "    Returns:\n",
        "        The current weather in the given city.\n",
        "    \"\"\"\n",
        "    return weather.run(city)"
      ]
    },
    {
      "cell_type": "code",
      "source": [
        "tools = [get_weather]\n",
        "llm_with_tool = llm.bind_tools(tools)"
      ],
      "metadata": {
        "id": "R-CZNsAdG7hz"
      },
      "execution_count": null,
      "outputs": []
    },
    {
      "cell_type": "markdown",
      "source": [
        "functional_call"
      ],
      "metadata": {
        "id": "bLYL-CO912QI"
      }
    },
    {
      "cell_type": "code",
      "source": [
        "llm_with_tool.invoke(\"What is the temperature in Peshawar\")"
      ],
      "metadata": {
        "colab": {
          "base_uri": "https://localhost:8080/"
        },
        "id": "sU9Hy05E2MTN",
        "outputId": "abdf55a2-8f52-421e-f5b5-482b7a6615d1"
      },
      "execution_count": null,
      "outputs": [
        {
          "output_type": "execute_result",
          "data": {
            "text/plain": [
              "AIMessage(content='', additional_kwargs={'function_call': {'name': 'get_weather', 'arguments': '{\"city\": \"Peshawar\"}'}}, response_metadata={'prompt_feedback': {'block_reason': 0, 'safety_ratings': []}, 'finish_reason': 'STOP', 'safety_ratings': []}, id='run-c18eb7f2-89f4-48b2-aba6-cdaaebba5c9e-0', tool_calls=[{'name': 'get_weather', 'args': {'city': 'Peshawar'}, 'id': 'a4f991f1-8cb3-4782-8a80-472c33df089a', 'type': 'tool_call'}], usage_metadata={'input_tokens': 50, 'output_tokens': 6, 'total_tokens': 56, 'input_token_details': {'cache_read': 0}})"
            ]
          },
          "metadata": {},
          "execution_count": 12
        }
      ]
    },
    {
      "cell_type": "code",
      "source": [
        "llm_with_tool.invoke(\"Hello\")"
      ],
      "metadata": {
        "id": "0OjGr8Hw1uaU",
        "outputId": "a530bfa7-5ab3-4883-fed7-cf03105eca31",
        "colab": {
          "base_uri": "https://localhost:8080/"
        }
      },
      "execution_count": null,
      "outputs": [
        {
          "output_type": "execute_result",
          "data": {
            "text/plain": [
              "AIMessage(content='Hello! How can I help you today?', additional_kwargs={}, response_metadata={'prompt_feedback': {'block_reason': 0, 'safety_ratings': []}, 'finish_reason': 'STOP', 'safety_ratings': []}, id='run-2054b8bc-7d29-4fd4-98c0-ceb195aaf39e-0', usage_metadata={'input_tokens': 45, 'output_tokens': 10, 'total_tokens': 55, 'input_token_details': {'cache_read': 0}})"
            ]
          },
          "metadata": {},
          "execution_count": 13
        }
      ]
    },
    {
      "cell_type": "markdown",
      "metadata": {
        "id": "H-Wrhj-w8qmJ"
      },
      "source": [
        "Our modified function_1 now becomes as below. The reason is, we are passing the human message as state and appending response to the state. Also, our agent now has a tool bound to it, that it can use."
      ]
    },
    {
      "cell_type": "code",
      "execution_count": null,
      "metadata": {
        "id": "58cOE_ID8qmJ"
      },
      "outputs": [],
      "source": [
        "def function_1(state: AgentState):\n",
        "    messages = state['messages']\n",
        "    response = llm_with_tool.invoke(messages)\n",
        "    return {\"messages\": [response]}"
      ]
    },
    {
      "cell_type": "markdown",
      "source": [
        "Now make a tool node"
      ],
      "metadata": {
        "id": "g2C7tzpmCO2S"
      }
    },
    {
      "cell_type": "code",
      "source": [
        "from langgraph.prebuilt import ToolNode\n",
        "\n",
        "tools = [get_weather]\n",
        "\n",
        "function_2 = ToolNode(tools)"
      ],
      "metadata": {
        "id": "S7NtR-VSCRLw"
      },
      "execution_count": null,
      "outputs": []
    },
    {
      "cell_type": "markdown",
      "metadata": {
        "id": "Xm8nxj4g8qmK"
      },
      "source": [
        "Now with all of the changes above, our LangGraph app is modified as below:"
      ]
    },
    {
      "cell_type": "code",
      "execution_count": null,
      "metadata": {
        "id": "yGTrJ2ey8qmK"
      },
      "outputs": [],
      "source": [
        "# from langgraph.graph import Graph, END\n",
        "\n",
        "# workflow = Graph()\n",
        "\n",
        "# Or you could import StateGraph and pass AgentState to it\n",
        "from langgraph.graph import StateGraph, END, START\n",
        "from langgraph.prebuilt import tools_condition\n",
        "from langgraph.graph.state import CompiledStateGraph\n",
        "\n",
        "workflow = StateGraph(AgentState)\n",
        "\n",
        "workflow.add_node(\"agent\", function_1)\n",
        "workflow.add_node(\"tools\", function_2)\n",
        "\n",
        "# The conditional edge requires the following info below.\n",
        "# First, we define the start node. We use `agent`.\n",
        "# This means these are the edges taken after the `agent` node is called.\n",
        "# Next, we pass in the function that will determine which node is called next, in our case where_to_go().\n",
        "\n",
        "workflow.add_edge(START, 'agent')\n",
        "\n",
        "# We now add a conditional edge from `agent` to `tool`.\n",
        "workflow.add_conditional_edges(\n",
        "                \"agent\",\n",
        "                # If the latest message (result) from assistant is a tool call -> tools_condition routes to tools\n",
        "                # If the latest message (result) from assistant is a not a tool call -> tools_condition routes to END\n",
        "                tools_condition\n",
        "                )\n",
        "\n",
        "# We now add a normal edge from `tools` to `agent`.\n",
        "# This means that if `tool` is called, then it has to call the 'agent' next.\n",
        "workflow.add_edge('tools', END)\n",
        "\n",
        "# Basically, agent node has the option to call a tool node based on a condition,\n",
        "# whereas tool node must call the agent in all cases based on this setup.\n",
        "\n",
        "\n",
        "graph : CompiledStateGraph = workflow.compile()"
      ]
    },
    {
      "cell_type": "code",
      "source": [
        "from IPython.display import Image\n",
        "\n",
        "# View\n",
        "display(Image(graph.get_graph().draw_mermaid_png()))"
      ],
      "metadata": {
        "colab": {
          "base_uri": "https://localhost:8080/",
          "height": 350
        },
        "id": "0rQiGkG51uEf",
        "outputId": "ec8b3411-9104-454e-f36c-273421640445"
      },
      "execution_count": null,
      "outputs": [
        {
          "output_type": "display_data",
          "data": {
            "image/png": "[encoded data removed]",
            "text/plain": [
              "<IPython.core.display.Image object>"
            ]
          },
          "metadata": {}
        }
      ]
    },
    {
      "cell_type": "code",
      "source": [
        "# # just another helpter function\n",
        "# import textwrap\n",
        "# from IPython.display import display, Markdown\n",
        "# from langchain.schema import messages\n",
        "\n",
        "# def to_markdown(state)-> Markdown:\n",
        "#     # Extract the content of the last message\n",
        "#     last_message = state['messages'][-1]\n",
        "\n",
        "#     # If the message has a content attribute, use that, else handle gracefully\n",
        "#     text = last_message.content\n",
        "\n",
        "#     text = text.replace(\"•\", \"  *\")\n",
        "#     return Markdown(textwrap.indent(text, \"> \", predicate=lambda _: True))"
      ],
      "metadata": {
        "id": "KGuWP2bHC0Ii"
      },
      "execution_count": null,
      "outputs": []
    },
    {
      "cell_type": "markdown",
      "metadata": {
        "id": "wI8Uz1GY8qmK"
      },
      "source": [
        "We also pass the first message using HumanMessage component available in langchain, makes it easy to differentiate from AIMessage, and ToolMessage"
      ]
    },
    {
      "cell_type": "code",
      "execution_count": null,
      "metadata": {
        "id": "oWctGOpt8qmK",
        "outputId": "c8d0c6da-ef6d-4ef1-8a11-68d4adc6b116",
        "colab": {
          "base_uri": "https://localhost:8080/"
        }
      },
      "outputs": [
        {
          "output_type": "execute_result",
          "data": {
            "text/plain": [
              "{'messages': [HumanMessage(content='what is the temperature in Lahore', additional_kwargs={}, response_metadata={}, id='0f6874fc-9093-40cb-ba51-e4379cd11dee'),\n",
              "  AIMessage(content='', additional_kwargs={'function_call': {'name': 'get_weather', 'arguments': '{\"city\": \"Lahore\"}'}}, response_metadata={'prompt_feedback': {'block_reason': 0, 'safety_ratings': []}, 'finish_reason': 'STOP', 'safety_ratings': []}, id='run-31ec645e-9d34-4c41-9eb1-1ce26083c8d1-0', tool_calls=[{'name': 'get_weather', 'args': {'city': 'Lahore'}, 'id': '2c3c2bda-56ad-4b44-9a46-c75c66e9cbd4', 'type': 'tool_call'}], usage_metadata={'input_tokens': 50, 'output_tokens': 6, 'total_tokens': 56, 'input_token_details': {'cache_read': 0}}),\n",
              "  ToolMessage(content='In Lahore, the current weather is as follows:\\nDetailed status: smoke\\nWind speed: 0 m/s, direction: 0°\\nHumidity: 63%\\nTemperature: \\n  - Current: 17.99°C\\n  - High: 17.99°C\\n  - Low: 17.99°C\\n  - Feels like: 17.49°C\\nRain: {}\\nHeat index: None\\nCloud cover: 20%', name='get_weather', id='77d38dd3-085f-4070-ac30-19747b9cea72', tool_call_id='2c3c2bda-56ad-4b44-9a46-c75c66e9cbd4')]}"
            ]
          },
          "metadata": {},
          "execution_count": 19
        }
      ],
      "source": [
        "from langchain_core.messages import HumanMessage\n",
        "\n",
        "inputs = {\"messages\": [HumanMessage(content=\"what is the temperature in Lahore\")]}\n",
        "# to_markdown(graph.invoke(inputs))\n",
        "graph.invoke(inputs)"
      ]
    },
    {
      "cell_type": "code",
      "execution_count": null,
      "metadata": {
        "id": "ee8kO8-S8qmK",
        "outputId": "9ddc5da1-d367-4bc4-c726-5077e8a2aaff",
        "colab": {
          "base_uri": "https://localhost:8080/"
        }
      },
      "outputs": [
        {
          "output_type": "stream",
          "name": "stdout",
          "text": [
            "Output from node 'agent':\n",
            "---\n",
            "{'messages': [AIMessage(content='', additional_kwargs={'function_call': {'name': 'get_weather', 'arguments': '{\"city\": \"lahore\"}'}}, response_metadata={'prompt_feedback': {'block_reason': 0, 'safety_ratings': []}, 'finish_reason': 'STOP', 'safety_ratings': []}, id='run-4491e8a7-8e26-41ae-994b-fe09f0b63fd0-0', tool_calls=[{'name': 'get_weather', 'args': {'city': 'lahore'}, 'id': '4e70e829-045b-487d-9447-330dd0501b49', 'type': 'tool_call'}], usage_metadata={'input_tokens': 51, 'output_tokens': 6, 'total_tokens': 57, 'input_token_details': {'cache_read': 0}})]}\n",
            "\n",
            "---\n",
            "\n",
            "Output from node 'tools':\n",
            "---\n",
            "{'messages': [ToolMessage(content='In lahore, the current weather is as follows:\\nDetailed status: smoke\\nWind speed: 0 m/s, direction: 0°\\nHumidity: 63%\\nTemperature: \\n  - Current: 17.99°C\\n  - High: 17.99°C\\n  - Low: 17.99°C\\n  - Feels like: 17.49°C\\nRain: {}\\nHeat index: None\\nCloud cover: 20%', name='get_weather', id='b9e25acd-460d-416c-a30d-758bd2c82b4d', tool_call_id='4e70e829-045b-487d-9447-330dd0501b49')]}\n",
            "\n",
            "---\n",
            "\n"
          ]
        }
      ],
      "source": [
        "inputs = {\"messages\": [HumanMessage(content=\"what is the temperature in lahore\")]}\n",
        "for output in graph.stream(inputs):\n",
        "    # stream() yields dictionaries with output keyed by node name\n",
        "    for key, value in output.items():\n",
        "        print(f\"Output from node '{key}':\")\n",
        "        print(\"---\")\n",
        "        print(value)\n",
        "    print(\"\\n---\\n\")"
      ]
    },
    {
      "cell_type": "markdown",
      "source": [
        "# Agent\n",
        "\n",
        "## Review\n",
        "\n",
        "We built a router.\n",
        "\n",
        "* Our chat model will decide to make a tool call or not based upon the user input\n",
        "* We use a conditional edge to route to a node that will call our tool or simply end\n",
        "\n",
        "![Screenshot 2024-08-21 at 12.44.33 PM.png](https://cdn.prod.website-files.com/65b8cd72835ceeacd4449a53/66dbac0ba0bd34b541c448cc_agent1.png)\n",
        "\n",
        "## Goals\n",
        "\n",
        "Now, we can extend this into a generic agent architecture.\n",
        "\n",
        "In the above router, we invoked the model and, if it chose to call a tool, we returned a `ToolMessage` to the user.\n",
        "\n",
        "But, what if we simply pass that `ToolMessage` *back to the model*?\n",
        "\n",
        "We can let it either (1) call another tool or (2) respond directly.\n",
        "\n",
        "This is the intuition behind [ReAct](https://react-lm.github.io/), a general agent architecture.\n",
        "  \n",
        "* `act` - let the model call specific tools\n",
        "* `observe` - pass the tool output back to the model\n",
        "* `reason` - let the model reason about the tool output to decide what to do next (e.g., call another tool or just respond directly)\n",
        "\n",
        "This [general purpose architecture](https://blog.langchain.dev/planning-for-agents/) can be applied to many types of tools.\n",
        "\n",
        "![Screenshot 2024-08-21 at 12.45.43 PM.png](https://cdn.prod.website-files.com/65b8cd72835ceeacd4449a53/66dbac0b4a2c1e5e02f3e78b_agent2.png)"
      ],
      "metadata": {
        "id": "NW95mtAaEOVB"
      }
    },
    {
      "cell_type": "code",
      "source": [
        "from typing import TypedDict, Annotated\n",
        "from langgraph.graph import MessagesState\n",
        "from langchain_core.messages import AnyMessage,AIMessage, HumanMessage, SystemMessage, ToolMessage\n",
        "from langgraph.graph.message import add_messages\n",
        "\n",
        "\n",
        "# Define a custom TypedDict that includes a list of messages with add_messages reducer\n",
        "class AgentState(TypedDict):\n",
        "    messages: Annotated[list[AnyMessage], add_messages]"
      ],
      "metadata": {
        "id": "suTX711Mi1Dn"
      },
      "execution_count": null,
      "outputs": []
    },
    {
      "cell_type": "code",
      "source": [
        "# from langgraph.graph import Graph, END\n",
        "\n",
        "# workflow = Graph()\n",
        "\n",
        "# Or you could import StateGraph and pass AgentState to it\n",
        "from langgraph.graph import StateGraph, END, START\n",
        "from langgraph.prebuilt import ToolNode, tools_condition\n",
        "from langgraph.graph.state import CompiledStateGraph\n",
        "\n",
        "workflow = StateGraph(AgentState)\n",
        "\n",
        "tools = [get_weather]\n",
        "workflow.add_node(\"agent\", function_1)\n",
        "workflow.add_node(\"tools\", ToolNode(tools))\n",
        "\n",
        "# The conditional edge requires the following info below.\n",
        "# First, we define the start node. We use `agent`.\n",
        "# This means these are the edges taken after the `agent` node is called.\n",
        "# Next, we pass in the function that will determine which node is called next, in our case we are using prebuilt tools_condition by langgraph\n",
        "\n",
        "workflow.add_edge(START, 'agent')\n",
        "\n",
        "# We now add a conditional edge from `agent` to `tool`.\n",
        "workflow.add_conditional_edges(\n",
        "                \"agent\",\n",
        "                # If the latest message (result) from assistant is a tool call -> tools_condition routes to tools\n",
        "                # If the latest message (result) from assistant is a not a tool call -> tools_condition routes to END\n",
        "                tools_condition\n",
        "                )\n",
        "\n",
        "# We now add a normal edge from `tools` to `agent`.\n",
        "# This means that if `tool` is called, then it has to call the 'agent' next.\n",
        "workflow.add_edge('tools', \"agent\")\n",
        "\n",
        "# Basically, agent node has the option to call a tool node based on a condition,\n",
        "# whereas tool node must call the agent in all cases based on this setup.\n",
        "\n",
        "react_graph : CompiledStateGraph = workflow.compile()\n",
        "\n",
        "# Show\n",
        "display(Image(react_graph.get_graph(xray=True).draw_mermaid_png()))"
      ],
      "metadata": {
        "id": "7oJibGJp_tES",
        "colab": {
          "base_uri": "https://localhost:8080/",
          "height": 266
        },
        "outputId": "5876713e-073b-43b8-edc3-c832c5e8236f"
      },
      "execution_count": null,
      "outputs": [
        {
          "output_type": "display_data",
          "data": {
            "image/png": "[encoded data removed]",
            "text/plain": [
              "<IPython.core.display.Image object>"
            ]
          },
          "metadata": {}
        }
      ]
    },
    {
      "cell_type": "code",
      "source": [
        "user_query = {\"messages\": [HumanMessage(content=\"what is the temperature in Lahore\")]}\n",
        "response = react_graph.invoke(user_query)\n",
        "# to_markdown(response)\n",
        "\n",
        "for m in response[\"messages\"]:\n",
        "    m.pretty_print()"
      ],
      "metadata": {
        "colab": {
          "base_uri": "https://localhost:8080/"
        },
        "id": "0RGdasnE_5G0",
        "outputId": "d7336d0d-6015-4987-dae6-cb93c681852a"
      },
      "execution_count": null,
      "outputs": [
        {
          "output_type": "stream",
          "name": "stdout",
          "text": [
            "================================\u001b[1m Human Message \u001b[0m=================================\n",
            "\n",
            "what is the temperature in Lahore\n",
            "==================================\u001b[1m Ai Message \u001b[0m==================================\n",
            "Tool Calls:\n",
            "  get_weather (02a4d11f-0b9e-4383-96bd-1aca204a5ecf)\n",
            " Call ID: 02a4d11f-0b9e-4383-96bd-1aca204a5ecf\n",
            "  Args:\n",
            "    city: Lahore\n",
            "=================================\u001b[1m Tool Message \u001b[0m=================================\n",
            "Name: get_weather\n",
            "\n",
            "In Lahore, the current weather is as follows:\n",
            "Detailed status: smoke\n",
            "Wind speed: 0 m/s, direction: 0°\n",
            "Humidity: 63%\n",
            "Temperature: \n",
            "  - Current: 17.99°C\n",
            "  - High: 17.99°C\n",
            "  - Low: 17.99°C\n",
            "  - Feels like: 17.49°C\n",
            "Rain: {}\n",
            "Heat index: None\n",
            "Cloud cover: 20%\n",
            "==================================\u001b[1m Ai Message \u001b[0m==================================\n",
            "\n",
            "The temperature in Lahore is currently 17.99°C, but it feels like 17.49°C. The high and low for today are both 17.99°C. The wind is calm at 0 m/s. The humidity is 63% and there is 20% cloud cover. The detailed status is smoke.\n"
          ]
        }
      ]
    },
    {
      "cell_type": "code",
      "source": [
        "user_query = {\"messages\": [HumanMessage(content=\"Hello I am Hammad and I built agents\")]}\n",
        "response = react_graph.invoke(user_query)\n",
        "response[\"messages\"][-1].pretty_print()"
      ],
      "metadata": {
        "id": "rhrOQrcb1Dwe",
        "outputId": "a8fd4fce-669e-4bf2-c944-19ae1fe367e8",
        "colab": {
          "base_uri": "https://localhost:8080/"
        }
      },
      "execution_count": null,
      "outputs": [
        {
          "output_type": "stream",
          "name": "stdout",
          "text": [
            "==================================\u001b[1m Ai Message \u001b[0m==================================\n",
            "\n",
            "Nice to meet you Hammad! How can I help you today?\n"
          ]
        }
      ]
    },
    {
      "cell_type": "code",
      "source": [
        "user_query = {\"messages\": [HumanMessage(content=\"Whats my name?\")]}\n",
        "response = react_graph.invoke(user_query)\n",
        "response[\"messages\"][-1].pretty_print()"
      ],
      "metadata": {
        "id": "_kJ1XPr-3CeQ",
        "outputId": "81373902-4ea9-472b-ec4b-5bad47e56275",
        "colab": {
          "base_uri": "https://localhost:8080/"
        }
      },
      "execution_count": null,
      "outputs": [
        {
          "output_type": "stream",
          "name": "stdout",
          "text": [
            "==================================\u001b[1m Ai Message \u001b[0m==================================\n",
            "\n",
            "I do not have access to personal information. I cannot tell you your name.\n"
          ]
        }
      ]
    },
    {
      "cell_type": "markdown",
      "source": [
        "We don't retain memory from our initial chat!\n",
        "\n",
        "This limits our ability to have multi-turn conversations with interruptions.\n",
        "\n",
        "We can use [persistence](https://langchain-ai.github.io/langgraph/how-tos/persistence/) to address this!\n",
        "\n",
        "LangGraph can use a checkpointer to automatically save the graph state after each step.\n",
        "\n",
        "This built-in persistence layer gives us memory, allowing LangGraph to pick up from the last state update.\n",
        "\n",
        "One of the easiest checkpointers to use is the `MemorySaver`, an in-memory key-value store for Graph state.\n",
        "\n",
        "All we need to do is simply compile the graph with a checkpointer, and our graph has memory!\n",
        "\n",
        "```\n",
        "  from langgraph.checkpoint.memory import MemorySaver\n",
        "  memory = MemorySaver()\n",
        "  react_graph_memory = builder.compile(checkpointer=memory)\n",
        "```"
      ],
      "metadata": {
        "id": "mgC3w7Ag3i4f"
      }
    },
    {
      "cell_type": "markdown",
      "source": [
        "# Agent memory\n",
        "\n",
        "## Review\n",
        "\n",
        "In previous steps, we built an agent that can:\n",
        "\n",
        "* `act` - let the model call specific tools\n",
        "* `observe` - pass the tool output back to the model\n",
        "* `reason` - let the model reason about the tool output to decide what to do next (e.g., call another tool or just respond directly)\n",
        "\n",
        "![Screenshot 2024-08-21 at 12.45.32 PM.png](https://cdn.prod.website-files.com/65b8cd72835ceeacd4449a53/66dbab7453080e6802cd1703_agent-memory1.png)\n",
        "\n",
        "## Goals\n",
        "\n",
        "Now, we're going extend our agent by introducing memory."
      ],
      "metadata": {
        "id": "CXgQ0PFC0LWW"
      }
    },
    {
      "cell_type": "code",
      "source": [
        "# from langgraph.graph import Graph, END\n",
        "\n",
        "# workflow = Graph()\n",
        "\n",
        "# Or you could import StateGraph and pass AgentState to it\n",
        "from langgraph.graph import StateGraph, END, START\n",
        "from langgraph.prebuilt import ToolNode, tools_condition\n",
        "from langgraph.graph.state import CompiledStateGraph\n",
        "from langgraph.checkpoint.memory import MemorySaver\n",
        "\n",
        "workflow = StateGraph(AgentState)\n",
        "\n",
        "tools = [get_weather]\n",
        "workflow.add_node(\"agent\", function_1)\n",
        "workflow.add_node(\"tools\", ToolNode(tools))\n",
        "\n",
        "# The conditional edge requires the following info below.\n",
        "# First, we define the start node. We use `agent`.\n",
        "# This means these are the edges taken after the `agent` node is called.\n",
        "# Next, we pass in the function that will determine which node is called next, in our case we are using prebuilt tools_condition by langgraph\n",
        "\n",
        "workflow.add_edge(START, 'agent')\n",
        "\n",
        "# We now add a conditional edge from `agent` to `tool`.\n",
        "workflow.add_conditional_edges(\n",
        "                \"agent\",\n",
        "                # If the latest message (result) from assistant is a tool call -> tools_condition routes to tools\n",
        "                # If the latest message (result) from assistant is a not a tool call -> tools_condition routes to END\n",
        "                tools_condition\n",
        "                )\n",
        "\n",
        "# We now add a normal edge from `tools` to `agent`.\n",
        "# This means that if `tool` is called, then it has to call the 'agent' next.\n",
        "workflow.add_edge('tools', \"agent\")\n",
        "\n",
        "# Basically, agent node has the option to call a tool node based on a condition,\n",
        "# whereas tool node must call the agent in all cases based on this setup.\n",
        "\n",
        "memory = MemorySaver()\n",
        "react_graph : CompiledStateGraph = workflow.compile(checkpointer=memory)\n",
        "\n",
        "# Show\n",
        "display(Image(react_graph.get_graph(xray=True).draw_mermaid_png()))"
      ],
      "metadata": {
        "id": "GICUr66Kzzcw",
        "outputId": "ddc01096-2c93-492d-b995-96aea4aea791",
        "colab": {
          "base_uri": "https://localhost:8080/",
          "height": 266
        }
      },
      "execution_count": null,
      "outputs": [
        {
          "output_type": "display_data",
          "data": {
            "image/png": "[encoded data removed]",
            "text/plain": [
              "<IPython.core.display.Image object>"
            ]
          },
          "metadata": {}
        }
      ]
    },
    {
      "cell_type": "markdown",
      "source": [
        "When we use memory, we need to specify a `thread_id`.\n",
        "\n",
        "This `thread_id` will store our collection of graph states.\n",
        "\n",
        "Here is a cartoon:\n",
        "\n",
        "* The checkpointer write the state at every step of the graph\n",
        "* These checkpoints are saved in a thread\n",
        "* We can access that thread in the future using the `thread_id`\n",
        "\n",
        "![state.jpg](https://cdn.prod.website-files.com/65b8cd72835ceeacd4449a53/66e0e9f526b41a4ed9e2d28b_agent-memory2.png)\n",
        "\n",
        "\n",
        "**State Saving:** A checkpoint captures the current state of the graph, including the values of all variables, the state of all nodes, and the progress of the execution. This allows you to save the state at any point during the graph's execution"
      ],
      "metadata": {
        "id": "SQAyDIuN4sNQ"
      }
    },
    {
      "cell_type": "code",
      "source": [
        "# Thread\n",
        "config = {\"configurable\": {\"thread_id\": \"1\"}}"
      ],
      "metadata": {
        "id": "4oer9dfQemdj"
      },
      "execution_count": null,
      "outputs": []
    },
    {
      "cell_type": "code",
      "source": [
        "user_query = {\"messages\": [HumanMessage(content=\"Hello I am Hammad and I built agents\")]}\n",
        "response = react_graph.invoke(user_query,config)\n",
        "response[\"messages\"][-1].pretty_print()"
      ],
      "metadata": {
        "id": "Sjm_pp0N6YgO",
        "outputId": "8f84a22a-8a95-4a82-c866-68b81d13b5f5",
        "colab": {
          "base_uri": "https://localhost:8080/"
        }
      },
      "execution_count": null,
      "outputs": [
        {
          "output_type": "stream",
          "name": "stdout",
          "text": [
            "==================================\u001b[1m Ai Message \u001b[0m==================================\n",
            "\n",
            "Nice to meet you Hammad! How can I help you today?\n"
          ]
        }
      ]
    },
    {
      "cell_type": "code",
      "source": [
        "user_query = {\"messages\": [HumanMessage(content=\"Whats my name?\")]}\n",
        "response = react_graph.invoke(user_query, config)\n",
        "response[\"messages\"][-1].pretty_print()"
      ],
      "metadata": {
        "id": "OaByWmQ66SCz",
        "outputId": "3573c135-1e3c-47e6-ec1e-276b217cf109",
        "colab": {
          "base_uri": "https://localhost:8080/"
        }
      },
      "execution_count": null,
      "outputs": [
        {
          "output_type": "stream",
          "name": "stdout",
          "text": [
            "==================================\u001b[1m Ai Message \u001b[0m==================================\n",
            "\n",
            "Your name is Hammad.\n"
          ]
        }
      ]
    },
    {
      "cell_type": "code",
      "source": [
        "user_query = {\"messages\": [HumanMessage(content=\"What I do\")]}\n",
        "response = react_graph.invoke(user_query, config)\n",
        "response[\"messages\"][-1].pretty_print()"
      ],
      "metadata": {
        "id": "muX8mt726pcp",
        "outputId": "c96d9908-7a14-4337-b0cb-8782e41fbefa",
        "colab": {
          "base_uri": "https://localhost:8080/"
        }
      },
      "execution_count": null,
      "outputs": [
        {
          "output_type": "stream",
          "name": "stdout",
          "text": [
            "==================================\u001b[1m Ai Message \u001b[0m==================================\n",
            "\n",
            "You build agents.\n"
          ]
        }
      ]
    },
    {
      "cell_type": "code",
      "source": [
        "while True:\n",
        "  try:\n",
        "    user_input = input(\"User: \")\n",
        "    if user_input.lower() in [\"quit\", \"exit\", \"q\"]:\n",
        "        print(\"Goodbye!\")\n",
        "        break\n",
        "\n",
        "    user_query = {\"messages\": [HumanMessage(content=user_input)]}\n",
        "    response = react_graph.invoke(user_query, config)\n",
        "    response[\"messages\"][-1].pretty_print()\n",
        "    print(\"\\n\")\n",
        "\n",
        "\n",
        "  except:\n",
        "    print(\"Invalid input. Please try again.\")\n",
        "    break"
      ],
      "metadata": {
        "id": "lG-d5BiKdjhf",
        "outputId": "f744ccef-36a5-4c3e-9fd5-a37e266d1d8f",
        "colab": {
          "base_uri": "https://localhost:8080/"
        }
      },
      "execution_count": null,
      "outputs": [
        {
          "output_type": "stream",
          "name": "stdout",
          "text": [
            "User: Hello\n",
            "==================================\u001b[1m Ai Message \u001b[0m==================================\n",
            "\n",
            "Hello Hammad! How can I help you today?\n",
            "\n",
            "\n",
            "User: Whats the temperature in Peshawar\n",
            "==================================\u001b[1m Ai Message \u001b[0m==================================\n",
            "\n",
            "The temperature in Peshawar is currently 14.97°C, but it feels like 13.12°C.\n",
            "\n",
            "\n",
            "User: thank you\n",
            "==================================\u001b[1m Ai Message \u001b[0m==================================\n",
            "\n",
            "You're welcome! Is there anything else I can help you with?\n",
            "\n",
            "\n",
            "User: exit\n",
            "Goodbye!\n"
          ]
        }
      ]
    },
    {
      "cell_type": "markdown",
      "metadata": {
        "id": "tvG4mJ6h8qmK"
      },
      "source": [
        "Hopefully, that gives you a good understanding of how we built a LangGraph app and why we used different LC components."
      ]
    },
    {
      "cell_type": "code",
      "source": [],
      "metadata": {
        "id": "fsyaDQHaklGY"
      },
      "execution_count": null,
      "outputs": []
    }
  ],
  "metadata": {
    "kernelspec": {
      "display_name": "Python 3",
      "language": "python",
      "name": "python3"
    },
    "language_info": {
      "codemirror_mode": {
        "name": "ipython",
        "version": 3
      },
      "file_extension": ".py",
      "mimetype": "text/x-python",
      "name": "python",
      "nbconvert_exporter": "python",
      "pygments_lexer": "ipython3",
      "version": "3.10.13"
    },
    "colab": {
      "provenance": []
    }
  },
  "nbformat": 4,
  "nbformat_minor": 0
}